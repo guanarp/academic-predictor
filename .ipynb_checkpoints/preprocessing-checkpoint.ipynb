{
 "cells": [
  {
   "cell_type": "code",
   "execution_count": 1,
   "id": "fifth-strategy",
   "metadata": {},
   "outputs": [],
   "source": [
    "import os\n",
    "import pandas as pd\n",
    "import numpy as np\n",
    "import matplotlib.pyplot as plt"
   ]
  },
  {
   "cell_type": "code",
   "execution_count": 2,
   "id": "c74186f6-9960-401f-9d90-81f52a15a9d1",
   "metadata": {},
   "outputs": [],
   "source": [
    "df= pd.read_csv(\".\\datos\\datosConcatenados.csv\",index_col=0)"
   ]
  },
  {
   "cell_type": "markdown",
   "id": "1e972f88-25c7-45aa-91ef-5de7173f4185",
   "metadata": {},
   "source": [
    "### Initial dataset info"
   ]
  },
  {
   "cell_type": "code",
   "execution_count": 3,
   "id": "hidden-speed",
   "metadata": {},
   "outputs": [
    {
     "name": "stdout",
     "output_type": "stream",
     "text": [
      "<class 'pandas.core.frame.DataFrame'>\n",
      "Int64Index: 221822 entries, 0 to 15049\n",
      "Data columns (total 22 columns):\n",
      " #   Column        Non-Null Count   Dtype  \n",
      "---  ------        --------------   -----  \n",
      " 0   danho         221822 non-null  int64  \n",
      " 1   ciclo         221822 non-null  int64  \n",
      " 2   Cod.Asign     221822 non-null  int64  \n",
      " 3   Asignatura    221822 non-null  object \n",
      " 4   Cod.Car.Sec   221822 non-null  object \n",
      " 5   Cod.Curso     221822 non-null  int64  \n",
      " 6   Convocatoria  221822 non-null  int64  \n",
      " 7   Anho          221822 non-null  int64  \n",
      " 8   Semestre      221822 non-null  int64  \n",
      " 9   Aprobado      221822 non-null  object \n",
      " 10  Anho.Firma    221822 non-null  int64  \n",
      " 11  Primer.Par    221822 non-null  int64  \n",
      " 12  Segundo.Par   221822 non-null  int64  \n",
      " 13  AOT           221822 non-null  int64  \n",
      " 14  Primer.Rec    221822 non-null  int64  \n",
      " 15  Segundo.Rec   221822 non-null  int64  \n",
      " 16  Nota.Final    137062 non-null  object \n",
      " 17  Tercer.Par    221822 non-null  float64\n",
      " 18  Asis          221822 non-null  float64\n",
      " 19  Cuarto.Par    28037 non-null   float64\n",
      " 20  4P_60         28037 non-null   float64\n",
      " 21  id_anony      221822 non-null  object \n",
      "dtypes: float64(4), int64(13), object(5)\n",
      "memory usage: 38.9+ MB\n"
     ]
    }
   ],
   "source": [
    "df.info()"
   ]
  },
  {
   "cell_type": "markdown",
   "id": "9c6cb858-2bad-45f5-b55f-21574040e86c",
   "metadata": {},
   "source": [
    "### Checking majors"
   ]
  },
  {
   "cell_type": "code",
   "execution_count": 4,
   "id": "e6968f99-e698-4ef6-8649-27f633e36940",
   "metadata": {},
   "outputs": [
    {
     "name": "stderr",
     "output_type": "stream",
     "text": [
      "C:\\Users\\Guana\\AppData\\Local\\Temp\\ipykernel_18628\\967907405.py:1: FutureWarning: The default value of regex will change from True to False in a future version.\n",
      "  df[\"Asignatura\"] = df[\"Asignatura\"].str.replace(' +', ' ')\n"
     ]
    }
   ],
   "source": [
    "df[\"Asignatura\"] = df[\"Asignatura\"].str.replace(' +', ' ')\n",
    "df[\"Asignatura\"] = df[\"Asignatura\"].str.strip()\n",
    "np.unique(df[\"Asignatura\"])\n",
    "df[\"Cod.Car.Sec\"] = df[\"Cod.Car.Sec\"].str[:3]\n",
    "\n",
    "condition = df[\"Cod.Car.Sec\"] != 'TIV'\n",
    "df = df[condition]\n",
    "    "
   ]
  },
  {
   "cell_type": "markdown",
   "id": "09aad1ab-0a88-4558-b7ce-eb1baadce2b6",
   "metadata": {},
   "source": [
    "### Removing chars from Final grade. Converting to list of ints"
   ]
  },
  {
   "cell_type": "code",
   "execution_count": 5,
   "id": "8fda75c2-9a93-40e0-9c07-0c888acb00ee",
   "metadata": {},
   "outputs": [],
   "source": [
    "df['Nota.Final'] = df['Nota.Final'].replace(regex=['1F-','2F-','3F-'],value= '')\n",
    "df['Nota.Final'] = df['Nota.Final'].replace(regex=['ME-','C-','F','D-'],value= '')\n",
    "df['Nota.Final'] = np.where(~(df['Nota.Final'].isnull()),df['Nota.Final'].str.split(','),df['Nota.Final'])"
   ]
  },
  {
   "cell_type": "code",
   "execution_count": 6,
   "id": "aa42a6e3-b653-4080-973a-428c194b510f",
   "metadata": {},
   "outputs": [],
   "source": [
    "isna = df['Nota.Final'].isna()\n",
    "df.loc[isna,'Nota.Final'] = pd.Series([[0]] * isna.sum()).values"
   ]
  },
  {
   "cell_type": "code",
   "execution_count": 7,
   "id": "a50c4fea-462c-4da6-9daf-994339a0a31e",
   "metadata": {},
   "outputs": [],
   "source": [
    "df['Nota.Final'] = [[int(i) for i in x] for x in df['Nota.Final']]"
   ]
  },
  {
   "cell_type": "code",
   "execution_count": 8,
   "id": "362d1500-dc9a-425c-8249-38121a507b28",
   "metadata": {
    "tags": []
   },
   "outputs": [
    {
     "name": "stdout",
     "output_type": "stream",
     "text": [
      "<class 'list'>\n",
      "<class 'list'>\n",
      "<class 'list'>\n",
      "<class 'list'>\n",
      "<class 'list'>\n",
      "<class 'list'>\n",
      "<class 'list'>\n",
      "<class 'list'>\n",
      "<class 'list'>\n",
      "<class 'list'>\n",
      "<class 'list'>\n",
      "<class 'list'>\n",
      "<class 'list'>\n",
      "<class 'list'>\n",
      "<class 'list'>\n",
      "<class 'list'>\n",
      "<class 'list'>\n",
      "<class 'list'>\n"
     ]
    }
   ],
   "source": [
    "for item in (df['Nota.Final'][1]):\n",
    "    print(type(item))"
   ]
  },
  {
   "cell_type": "markdown",
   "id": "20e011d5-7277-47b6-b583-7b717b02a306",
   "metadata": {},
   "source": [
    "## Getting an average of the student's grades in the course"
   ]
  },
  {
   "cell_type": "code",
   "execution_count": 9,
   "id": "65f3d842-da3e-42b8-8362-59eb0e510a01",
   "metadata": {},
   "outputs": [],
   "source": [
    "grades = df['Nota.Final'].to_list()\n",
    "grades = [np.mean(x) for x in grades]\n",
    "df['Nota.Prom'] = grades"
   ]
  },
  {
   "cell_type": "markdown",
   "id": "14070d58-3582-4690-8cf8-6fc6b25bf090",
   "metadata": {},
   "source": [
    "## Removing pandemic semester"
   ]
  },
  {
   "cell_type": "code",
   "execution_count": 10,
   "id": "a92c00e3-a518-40d4-b7bc-462d577c2d18",
   "metadata": {},
   "outputs": [],
   "source": [
    "condition = df['Cuarto.Par'].isnull()\n",
    "df = df[condition]\n",
    "condition = df['Tercer.Par'] == 0\n",
    "df = df[condition]"
   ]
  },
  {
   "cell_type": "code",
   "execution_count": 11,
   "id": "d41f1318-6e8c-4f94-bbfe-83e059062ff1",
   "metadata": {},
   "outputs": [],
   "source": [
    "df.drop(['Tercer.Par','Cuarto.Par'],axis=1, inplace = True)"
   ]
  },
  {
   "cell_type": "code",
   "execution_count": 12,
   "id": "787b809d-0fb6-41d9-aa3d-a9912f4f2f17",
   "metadata": {},
   "outputs": [],
   "source": [
    "df = df.drop(['danho'],axis=1) #borro porque es lo mismo que anho"
   ]
  },
  {
   "cell_type": "markdown",
   "id": "3495287f-faf3-4555-84d9-54357db56ad5",
   "metadata": {},
   "source": [
    "# Changing approved to categorical and making a 'Firma' bool column"
   ]
  },
  {
   "cell_type": "code",
   "execution_count": 13,
   "id": "9a68c7a6-862b-4ce0-9687-ea1cc1c3851b",
   "metadata": {},
   "outputs": [],
   "source": [
    "#print(df[\"Aprobado\"].head())\n",
    "df.Aprobado = pd.Categorical(df.Aprobado)\n",
    "df.Aprobado = df.Aprobado.cat.codes\n",
    "#df[\"Aprobado\"].head()"
   ]
  },
  {
   "cell_type": "code",
   "execution_count": 14,
   "id": "b6f13a53-9107-46f2-8e9d-9dc6c1e8f6a6",
   "metadata": {},
   "outputs": [],
   "source": [
    "df['Firma'] = df['Anho.Firma'] > 0"
   ]
  },
  {
   "cell_type": "code",
   "execution_count": 15,
   "id": "dce67da0-e8aa-4187-a6f4-862bcf87a479",
   "metadata": {},
   "outputs": [
    {
     "data": {
      "text/plain": [
       "0        5\n",
       "1        7\n",
       "2        5\n",
       "3        7\n",
       "4        7\n",
       "        ..\n",
       "15045    6\n",
       "15046    6\n",
       "15047    6\n",
       "15048    6\n",
       "15049    6\n",
       "Name: Cod.Car.Sec, Length: 191299, dtype: int8"
      ]
     },
     "execution_count": 15,
     "metadata": {},
     "output_type": "execute_result"
    }
   ],
   "source": [
    "df[\"Cod.Car.Sec\"] = pd.Categorical(df[\"Cod.Car.Sec\"])\n",
    "df[\"Cod.Car.Sec\"] = df[\"Cod.Car.Sec\"].cat.codes\n",
    "df[\"Cod.Car.Sec\"]"
   ]
  },
  {
   "cell_type": "markdown",
   "id": "5c994d1f-6f2e-4e38-b335-3b821cfd6347",
   "metadata": {},
   "source": [
    "## Dictionary of majors"
   ]
  },
  {
   "cell_type": "code",
   "execution_count": 16,
   "id": "cooperative-directive",
   "metadata": {},
   "outputs": [],
   "source": [
    "majors = ['CGF','CIV','ECA','ELE','IND','INT','MCT','MEC']\n",
    "majors_dict = {}\n",
    "for major in majors:\n",
    "    condition = df[\"Cod.Car.Sec\"] == major\n",
    "    majors_dict[major] = df[condition]"
   ]
  },
  {
   "cell_type": "code",
   "execution_count": 17,
   "id": "ef6de7c7-c6d7-4fcd-bd1f-41732611f84e",
   "metadata": {},
   "outputs": [],
   "source": [
    "for major in majors:\n",
    "    condition = majors_dict[major]['Cod.Curso'] > 4 ## if the course is from 4th semester or below is considered part of common courses\n",
    "    majors_dict[major] = majors_dict[major][condition] "
   ]
  },
  {
   "cell_type": "code",
   "execution_count": 18,
   "id": "d2f8f1cd-bdc4-4619-b74b-c6bdd1990e77",
   "metadata": {},
   "outputs": [],
   "source": [
    "%%capture\n",
    "for major in majors:\n",
    "    print(majors_dict[major].head())"
   ]
  },
  {
   "cell_type": "code",
   "execution_count": 19,
   "id": "5bc03256-973a-4e04-9323-fad4dda1efe7",
   "metadata": {},
   "outputs": [],
   "source": [
    "%%capture\n",
    "for major in majors:\n",
    "    print(np.unique(majors_dict[major][\"Cod.Curso\"]))"
   ]
  },
  {
   "cell_type": "code",
   "execution_count": 20,
   "id": "confirmed-disposal",
   "metadata": {},
   "outputs": [
    {
     "name": "stdout",
     "output_type": "stream",
     "text": [
      "Number of students in specific courses \n",
      "CGF 0\n",
      "CIV 0\n",
      "ECA 0\n",
      "ELE 0\n",
      "IND 0\n",
      "INT 0\n",
      "MCT 0\n",
      "MEC 0\n"
     ]
    }
   ],
   "source": [
    "print(\"Number of students in specific courses \")\n",
    "for major in majors:\n",
    "    print(major,len(np.unique(majors_dict[major].id_anony.values)))"
   ]
  },
  {
   "cell_type": "markdown",
   "id": "b5cb858f-40c5-448f-a1bc-c7938c426be8",
   "metadata": {},
   "source": [
    "### Common courses in the dict"
   ]
  },
  {
   "cell_type": "code",
   "execution_count": 21,
   "id": "5c114f9c-43a8-42bf-9d62-965c80b282c4",
   "metadata": {},
   "outputs": [],
   "source": [
    "%%capture\n",
    "if \"CB\" not in majors:\n",
    "    majors.append(\"CB\")\n",
    "print(majors)"
   ]
  },
  {
   "cell_type": "code",
   "execution_count": 22,
   "id": "4c235e42-70ec-4d02-80a7-8b3edff1e534",
   "metadata": {},
   "outputs": [
    {
     "data": {
      "text/html": [
       "<div>\n",
       "<style scoped>\n",
       "    .dataframe tbody tr th:only-of-type {\n",
       "        vertical-align: middle;\n",
       "    }\n",
       "\n",
       "    .dataframe tbody tr th {\n",
       "        vertical-align: top;\n",
       "    }\n",
       "\n",
       "    .dataframe thead th {\n",
       "        text-align: right;\n",
       "    }\n",
       "</style>\n",
       "<table border=\"1\" class=\"dataframe\">\n",
       "  <thead>\n",
       "    <tr style=\"text-align: right;\">\n",
       "      <th></th>\n",
       "      <th>ciclo</th>\n",
       "      <th>Cod.Asign</th>\n",
       "      <th>Asignatura</th>\n",
       "      <th>Cod.Car.Sec</th>\n",
       "      <th>Cod.Curso</th>\n",
       "      <th>Convocatoria</th>\n",
       "      <th>Anho</th>\n",
       "      <th>Semestre</th>\n",
       "      <th>Aprobado</th>\n",
       "      <th>Anho.Firma</th>\n",
       "      <th>...</th>\n",
       "      <th>Segundo.Par</th>\n",
       "      <th>AOT</th>\n",
       "      <th>Primer.Rec</th>\n",
       "      <th>Segundo.Rec</th>\n",
       "      <th>Nota.Final</th>\n",
       "      <th>Asis</th>\n",
       "      <th>4P_60</th>\n",
       "      <th>id_anony</th>\n",
       "      <th>Nota.Prom</th>\n",
       "      <th>Firma</th>\n",
       "    </tr>\n",
       "  </thead>\n",
       "  <tbody>\n",
       "    <tr>\n",
       "      <th>401</th>\n",
       "      <td>1</td>\n",
       "      <td>5012</td>\n",
       "      <td>CALCULO 3</td>\n",
       "      <td>0</td>\n",
       "      <td>3</td>\n",
       "      <td>1</td>\n",
       "      <td>2012</td>\n",
       "      <td>1</td>\n",
       "      <td>0</td>\n",
       "      <td>0</td>\n",
       "      <td>...</td>\n",
       "      <td>0</td>\n",
       "      <td>0</td>\n",
       "      <td>0</td>\n",
       "      <td>0</td>\n",
       "      <td>[0]</td>\n",
       "      <td>0.0</td>\n",
       "      <td>NaN</td>\n",
       "      <td>es_253</td>\n",
       "      <td>0.0</td>\n",
       "      <td>False</td>\n",
       "    </tr>\n",
       "    <tr>\n",
       "      <th>402</th>\n",
       "      <td>1</td>\n",
       "      <td>5015</td>\n",
       "      <td>FISICA 4</td>\n",
       "      <td>1</td>\n",
       "      <td>4</td>\n",
       "      <td>1</td>\n",
       "      <td>2012</td>\n",
       "      <td>1</td>\n",
       "      <td>0</td>\n",
       "      <td>2012</td>\n",
       "      <td>...</td>\n",
       "      <td>13</td>\n",
       "      <td>9</td>\n",
       "      <td>0</td>\n",
       "      <td>0</td>\n",
       "      <td>[0]</td>\n",
       "      <td>1.0</td>\n",
       "      <td>NaN</td>\n",
       "      <td>es_254</td>\n",
       "      <td>0.0</td>\n",
       "      <td>True</td>\n",
       "    </tr>\n",
       "    <tr>\n",
       "      <th>403</th>\n",
       "      <td>1</td>\n",
       "      <td>5015</td>\n",
       "      <td>FISICA 4</td>\n",
       "      <td>0</td>\n",
       "      <td>4</td>\n",
       "      <td>1</td>\n",
       "      <td>2012</td>\n",
       "      <td>1</td>\n",
       "      <td>1</td>\n",
       "      <td>2012</td>\n",
       "      <td>...</td>\n",
       "      <td>24</td>\n",
       "      <td>10</td>\n",
       "      <td>0</td>\n",
       "      <td>0</td>\n",
       "      <td>[3]</td>\n",
       "      <td>1.0</td>\n",
       "      <td>NaN</td>\n",
       "      <td>es_255</td>\n",
       "      <td>3.0</td>\n",
       "      <td>True</td>\n",
       "    </tr>\n",
       "    <tr>\n",
       "      <th>404</th>\n",
       "      <td>1</td>\n",
       "      <td>5015</td>\n",
       "      <td>FISICA 4</td>\n",
       "      <td>1</td>\n",
       "      <td>4</td>\n",
       "      <td>1</td>\n",
       "      <td>2012</td>\n",
       "      <td>1</td>\n",
       "      <td>0</td>\n",
       "      <td>0</td>\n",
       "      <td>...</td>\n",
       "      <td>0</td>\n",
       "      <td>0</td>\n",
       "      <td>0</td>\n",
       "      <td>0</td>\n",
       "      <td>[0]</td>\n",
       "      <td>0.0</td>\n",
       "      <td>NaN</td>\n",
       "      <td>es_256</td>\n",
       "      <td>0.0</td>\n",
       "      <td>False</td>\n",
       "    </tr>\n",
       "    <tr>\n",
       "      <th>405</th>\n",
       "      <td>1</td>\n",
       "      <td>5015</td>\n",
       "      <td>FISICA 4</td>\n",
       "      <td>1</td>\n",
       "      <td>4</td>\n",
       "      <td>1</td>\n",
       "      <td>2012</td>\n",
       "      <td>1</td>\n",
       "      <td>0</td>\n",
       "      <td>0</td>\n",
       "      <td>...</td>\n",
       "      <td>12</td>\n",
       "      <td>8</td>\n",
       "      <td>0</td>\n",
       "      <td>0</td>\n",
       "      <td>[0]</td>\n",
       "      <td>0.0</td>\n",
       "      <td>NaN</td>\n",
       "      <td>es_257</td>\n",
       "      <td>0.0</td>\n",
       "      <td>False</td>\n",
       "    </tr>\n",
       "    <tr>\n",
       "      <th>...</th>\n",
       "      <td>...</td>\n",
       "      <td>...</td>\n",
       "      <td>...</td>\n",
       "      <td>...</td>\n",
       "      <td>...</td>\n",
       "      <td>...</td>\n",
       "      <td>...</td>\n",
       "      <td>...</td>\n",
       "      <td>...</td>\n",
       "      <td>...</td>\n",
       "      <td>...</td>\n",
       "      <td>...</td>\n",
       "      <td>...</td>\n",
       "      <td>...</td>\n",
       "      <td>...</td>\n",
       "      <td>...</td>\n",
       "      <td>...</td>\n",
       "      <td>...</td>\n",
       "      <td>...</td>\n",
       "      <td>...</td>\n",
       "      <td>...</td>\n",
       "    </tr>\n",
       "    <tr>\n",
       "      <th>12384</th>\n",
       "      <td>1</td>\n",
       "      <td>13705</td>\n",
       "      <td>PROGRAMACION ORIENTADA A OBJETOS</td>\n",
       "      <td>6</td>\n",
       "      <td>4</td>\n",
       "      <td>1</td>\n",
       "      <td>2021</td>\n",
       "      <td>1</td>\n",
       "      <td>0</td>\n",
       "      <td>0</td>\n",
       "      <td>...</td>\n",
       "      <td>0</td>\n",
       "      <td>5</td>\n",
       "      <td>0</td>\n",
       "      <td>0</td>\n",
       "      <td>[0]</td>\n",
       "      <td>1.0</td>\n",
       "      <td>NaN</td>\n",
       "      <td>es_4312</td>\n",
       "      <td>0.0</td>\n",
       "      <td>False</td>\n",
       "    </tr>\n",
       "    <tr>\n",
       "      <th>12385</th>\n",
       "      <td>1</td>\n",
       "      <td>13705</td>\n",
       "      <td>PROGRAMACION ORIENTADA A OBJETOS</td>\n",
       "      <td>6</td>\n",
       "      <td>4</td>\n",
       "      <td>1</td>\n",
       "      <td>2021</td>\n",
       "      <td>1</td>\n",
       "      <td>0</td>\n",
       "      <td>2021</td>\n",
       "      <td>...</td>\n",
       "      <td>31</td>\n",
       "      <td>10</td>\n",
       "      <td>0</td>\n",
       "      <td>0</td>\n",
       "      <td>[0]</td>\n",
       "      <td>1.0</td>\n",
       "      <td>NaN</td>\n",
       "      <td>es_4108</td>\n",
       "      <td>0.0</td>\n",
       "      <td>True</td>\n",
       "    </tr>\n",
       "    <tr>\n",
       "      <th>12386</th>\n",
       "      <td>1</td>\n",
       "      <td>13705</td>\n",
       "      <td>PROGRAMACION ORIENTADA A OBJETOS</td>\n",
       "      <td>6</td>\n",
       "      <td>4</td>\n",
       "      <td>1</td>\n",
       "      <td>2021</td>\n",
       "      <td>1</td>\n",
       "      <td>0</td>\n",
       "      <td>2021</td>\n",
       "      <td>...</td>\n",
       "      <td>36</td>\n",
       "      <td>8</td>\n",
       "      <td>0</td>\n",
       "      <td>0</td>\n",
       "      <td>[0]</td>\n",
       "      <td>1.0</td>\n",
       "      <td>NaN</td>\n",
       "      <td>es_4502</td>\n",
       "      <td>0.0</td>\n",
       "      <td>True</td>\n",
       "    </tr>\n",
       "    <tr>\n",
       "      <th>12387</th>\n",
       "      <td>1</td>\n",
       "      <td>13705</td>\n",
       "      <td>PROGRAMACION ORIENTADA A OBJETOS</td>\n",
       "      <td>6</td>\n",
       "      <td>4</td>\n",
       "      <td>1</td>\n",
       "      <td>2021</td>\n",
       "      <td>1</td>\n",
       "      <td>0</td>\n",
       "      <td>0</td>\n",
       "      <td>...</td>\n",
       "      <td>0</td>\n",
       "      <td>0</td>\n",
       "      <td>0</td>\n",
       "      <td>0</td>\n",
       "      <td>[0]</td>\n",
       "      <td>1.0</td>\n",
       "      <td>NaN</td>\n",
       "      <td>es_4167</td>\n",
       "      <td>0.0</td>\n",
       "      <td>False</td>\n",
       "    </tr>\n",
       "    <tr>\n",
       "      <th>12388</th>\n",
       "      <td>1</td>\n",
       "      <td>13705</td>\n",
       "      <td>PROGRAMACION ORIENTADA A OBJETOS</td>\n",
       "      <td>6</td>\n",
       "      <td>4</td>\n",
       "      <td>1</td>\n",
       "      <td>2021</td>\n",
       "      <td>1</td>\n",
       "      <td>0</td>\n",
       "      <td>2021</td>\n",
       "      <td>...</td>\n",
       "      <td>35</td>\n",
       "      <td>9</td>\n",
       "      <td>0</td>\n",
       "      <td>0</td>\n",
       "      <td>[0]</td>\n",
       "      <td>1.0</td>\n",
       "      <td>NaN</td>\n",
       "      <td>es_4519</td>\n",
       "      <td>0.0</td>\n",
       "      <td>True</td>\n",
       "    </tr>\n",
       "  </tbody>\n",
       "</table>\n",
       "<p>97341 rows × 21 columns</p>\n",
       "</div>"
      ],
      "text/plain": [
       "       ciclo  Cod.Asign                        Asignatura  Cod.Car.Sec  \\\n",
       "401        1       5012                         CALCULO 3            0   \n",
       "402        1       5015                          FISICA 4            1   \n",
       "403        1       5015                          FISICA 4            0   \n",
       "404        1       5015                          FISICA 4            1   \n",
       "405        1       5015                          FISICA 4            1   \n",
       "...      ...        ...                               ...          ...   \n",
       "12384      1      13705  PROGRAMACION ORIENTADA A OBJETOS            6   \n",
       "12385      1      13705  PROGRAMACION ORIENTADA A OBJETOS            6   \n",
       "12386      1      13705  PROGRAMACION ORIENTADA A OBJETOS            6   \n",
       "12387      1      13705  PROGRAMACION ORIENTADA A OBJETOS            6   \n",
       "12388      1      13705  PROGRAMACION ORIENTADA A OBJETOS            6   \n",
       "\n",
       "       Cod.Curso  Convocatoria  Anho  Semestre  Aprobado  Anho.Firma  ...  \\\n",
       "401            3             1  2012         1         0           0  ...   \n",
       "402            4             1  2012         1         0        2012  ...   \n",
       "403            4             1  2012         1         1        2012  ...   \n",
       "404            4             1  2012         1         0           0  ...   \n",
       "405            4             1  2012         1         0           0  ...   \n",
       "...          ...           ...   ...       ...       ...         ...  ...   \n",
       "12384          4             1  2021         1         0           0  ...   \n",
       "12385          4             1  2021         1         0        2021  ...   \n",
       "12386          4             1  2021         1         0        2021  ...   \n",
       "12387          4             1  2021         1         0           0  ...   \n",
       "12388          4             1  2021         1         0        2021  ...   \n",
       "\n",
       "       Segundo.Par  AOT  Primer.Rec  Segundo.Rec  Nota.Final Asis  4P_60  \\\n",
       "401              0    0           0            0         [0]  0.0    NaN   \n",
       "402             13    9           0            0         [0]  1.0    NaN   \n",
       "403             24   10           0            0         [3]  1.0    NaN   \n",
       "404              0    0           0            0         [0]  0.0    NaN   \n",
       "405             12    8           0            0         [0]  0.0    NaN   \n",
       "...            ...  ...         ...          ...         ...  ...    ...   \n",
       "12384            0    5           0            0         [0]  1.0    NaN   \n",
       "12385           31   10           0            0         [0]  1.0    NaN   \n",
       "12386           36    8           0            0         [0]  1.0    NaN   \n",
       "12387            0    0           0            0         [0]  1.0    NaN   \n",
       "12388           35    9           0            0         [0]  1.0    NaN   \n",
       "\n",
       "       id_anony Nota.Prom  Firma  \n",
       "401      es_253       0.0  False  \n",
       "402      es_254       0.0   True  \n",
       "403      es_255       3.0   True  \n",
       "404      es_256       0.0  False  \n",
       "405      es_257       0.0  False  \n",
       "...         ...       ...    ...  \n",
       "12384   es_4312       0.0  False  \n",
       "12385   es_4108       0.0   True  \n",
       "12386   es_4502       0.0   True  \n",
       "12387   es_4167       0.0  False  \n",
       "12388   es_4519       0.0   True  \n",
       "\n",
       "[97341 rows x 21 columns]"
      ]
     },
     "execution_count": 22,
     "metadata": {},
     "output_type": "execute_result"
    }
   ],
   "source": [
    "condition = df['Cod.Curso'] <= 4\n",
    "majors_dict[\"CB\"] = df[condition]\n",
    "majors_dict[\"CB\"]"
   ]
  },
  {
   "cell_type": "code",
   "execution_count": 23,
   "id": "c1a5b9e6-e615-43d0-80b4-dd2c418f6431",
   "metadata": {},
   "outputs": [
    {
     "name": "stderr",
     "output_type": "stream",
     "text": [
      "C:\\Users\\Guana\\AppData\\Local\\Temp\\ipykernel_18628\\1769014245.py:4: SettingWithCopyWarning: \n",
      "A value is trying to be set on a copy of a slice from a DataFrame\n",
      "\n",
      "See the caveats in the documentation: https://pandas.pydata.org/pandas-docs/stable/user_guide/indexing.html#returning-a-view-versus-a-copy\n",
      "  majors_dict[major].drop(columns,axis=1, inplace= True)\n"
     ]
    }
   ],
   "source": [
    "columns = [\"Cod.Asign\", 'Asis', '4P_60',\"Cod.Curso\", \"Semestre\", 'Primer.Rec','Segundo.Rec'] #id_anony could be usefull\n",
    "for major in majors:\n",
    "    if columns[0] in majors_dict[major]:\n",
    "        majors_dict[major].drop(columns,axis=1, inplace= True)\n",
    "    #majors_dict[major].head()"
   ]
  },
  {
   "cell_type": "code",
   "execution_count": 24,
   "id": "3c963cab-1aaa-461d-a98d-875139f3c04b",
   "metadata": {},
   "outputs": [
    {
     "data": {
      "text/html": [
       "<div>\n",
       "<style scoped>\n",
       "    .dataframe tbody tr th:only-of-type {\n",
       "        vertical-align: middle;\n",
       "    }\n",
       "\n",
       "    .dataframe tbody tr th {\n",
       "        vertical-align: top;\n",
       "    }\n",
       "\n",
       "    .dataframe thead th {\n",
       "        text-align: right;\n",
       "    }\n",
       "</style>\n",
       "<table border=\"1\" class=\"dataframe\">\n",
       "  <thead>\n",
       "    <tr style=\"text-align: right;\">\n",
       "      <th></th>\n",
       "      <th>ciclo</th>\n",
       "      <th>Asignatura</th>\n",
       "      <th>Convocatoria</th>\n",
       "      <th>Anho</th>\n",
       "      <th>Aprobado</th>\n",
       "      <th>Anho.Firma</th>\n",
       "      <th>Primer.Par</th>\n",
       "      <th>Segundo.Par</th>\n",
       "      <th>AOT</th>\n",
       "      <th>Nota.Final</th>\n",
       "      <th>id_anony</th>\n",
       "      <th>Nota.Prom</th>\n",
       "      <th>Firma</th>\n",
       "    </tr>\n",
       "  </thead>\n",
       "  <tbody>\n",
       "    <tr>\n",
       "      <th>401</th>\n",
       "      <td>1</td>\n",
       "      <td>CALCULO 3</td>\n",
       "      <td>1</td>\n",
       "      <td>2012</td>\n",
       "      <td>0</td>\n",
       "      <td>0</td>\n",
       "      <td>0</td>\n",
       "      <td>0</td>\n",
       "      <td>0</td>\n",
       "      <td>[0]</td>\n",
       "      <td>es_253</td>\n",
       "      <td>0.0</td>\n",
       "      <td>False</td>\n",
       "    </tr>\n",
       "    <tr>\n",
       "      <th>402</th>\n",
       "      <td>1</td>\n",
       "      <td>FISICA 4</td>\n",
       "      <td>1</td>\n",
       "      <td>2012</td>\n",
       "      <td>0</td>\n",
       "      <td>2012</td>\n",
       "      <td>19</td>\n",
       "      <td>13</td>\n",
       "      <td>9</td>\n",
       "      <td>[0]</td>\n",
       "      <td>es_254</td>\n",
       "      <td>0.0</td>\n",
       "      <td>True</td>\n",
       "    </tr>\n",
       "    <tr>\n",
       "      <th>403</th>\n",
       "      <td>1</td>\n",
       "      <td>FISICA 4</td>\n",
       "      <td>1</td>\n",
       "      <td>2012</td>\n",
       "      <td>1</td>\n",
       "      <td>2012</td>\n",
       "      <td>17</td>\n",
       "      <td>24</td>\n",
       "      <td>10</td>\n",
       "      <td>[3]</td>\n",
       "      <td>es_255</td>\n",
       "      <td>3.0</td>\n",
       "      <td>True</td>\n",
       "    </tr>\n",
       "    <tr>\n",
       "      <th>404</th>\n",
       "      <td>1</td>\n",
       "      <td>FISICA 4</td>\n",
       "      <td>1</td>\n",
       "      <td>2012</td>\n",
       "      <td>0</td>\n",
       "      <td>0</td>\n",
       "      <td>0</td>\n",
       "      <td>0</td>\n",
       "      <td>0</td>\n",
       "      <td>[0]</td>\n",
       "      <td>es_256</td>\n",
       "      <td>0.0</td>\n",
       "      <td>False</td>\n",
       "    </tr>\n",
       "    <tr>\n",
       "      <th>405</th>\n",
       "      <td>1</td>\n",
       "      <td>FISICA 4</td>\n",
       "      <td>1</td>\n",
       "      <td>2012</td>\n",
       "      <td>0</td>\n",
       "      <td>0</td>\n",
       "      <td>16</td>\n",
       "      <td>12</td>\n",
       "      <td>8</td>\n",
       "      <td>[0]</td>\n",
       "      <td>es_257</td>\n",
       "      <td>0.0</td>\n",
       "      <td>False</td>\n",
       "    </tr>\n",
       "  </tbody>\n",
       "</table>\n",
       "</div>"
      ],
      "text/plain": [
       "     ciclo Asignatura  Convocatoria  Anho  Aprobado  Anho.Firma  Primer.Par  \\\n",
       "401      1  CALCULO 3             1  2012         0           0           0   \n",
       "402      1   FISICA 4             1  2012         0        2012          19   \n",
       "403      1   FISICA 4             1  2012         1        2012          17   \n",
       "404      1   FISICA 4             1  2012         0           0           0   \n",
       "405      1   FISICA 4             1  2012         0           0          16   \n",
       "\n",
       "     Segundo.Par  AOT Nota.Final id_anony  Nota.Prom  Firma  \n",
       "401            0    0        [0]   es_253        0.0  False  \n",
       "402           13    9        [0]   es_254        0.0   True  \n",
       "403           24   10        [3]   es_255        3.0   True  \n",
       "404            0    0        [0]   es_256        0.0  False  \n",
       "405           12    8        [0]   es_257        0.0  False  "
      ]
     },
     "execution_count": 24,
     "metadata": {},
     "output_type": "execute_result"
    }
   ],
   "source": [
    "majors_dict[\"CB\"].head()"
   ]
  },
  {
   "cell_type": "markdown",
   "id": "894a0442-fb18-4b11-811f-8e740c273006",
   "metadata": {},
   "source": [
    "## Write to a csv"
   ]
  },
  {
   "cell_type": "code",
   "execution_count": 25,
   "id": "fdd159b0-445b-41e5-958e-e021c2663f40",
   "metadata": {},
   "outputs": [],
   "source": [
    "for major in majors:\n",
    "    name = \".\\datasets\\datos\"+\"_\"+str(major)+\".csv\"\n",
    "    majors_dict[major].to_csv(name)"
   ]
  },
  {
   "cell_type": "code",
   "execution_count": 26,
   "id": "6856f0d6-c957-45bc-9d6f-da64636b8549",
   "metadata": {},
   "outputs": [],
   "source": [
    "%%capture\n",
    "for major in majors:\n",
    "    columns = [\"Aprobado\",\"Primer.Par\",\"Segundo.Par\",\"AOT\",\"Nota.Final\",\"id_anony\"]\n",
    "    print(majors_dict[major][columns].describe())\n",
    "    print(\"#############################################################\")"
   ]
  }
 ],
 "metadata": {
  "kernelspec": {
   "display_name": "Python 3 (ipykernel)",
   "language": "python",
   "name": "python3"
  },
  "language_info": {
   "codemirror_mode": {
    "name": "ipython",
    "version": 3
   },
   "file_extension": ".py",
   "mimetype": "text/x-python",
   "name": "python",
   "nbconvert_exporter": "python",
   "pygments_lexer": "ipython3",
   "version": "3.10.9"
  }
 },
 "nbformat": 4,
 "nbformat_minor": 5
}
