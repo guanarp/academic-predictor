{
 "cells": [
  {
   "cell_type": "code",
   "execution_count": 1,
   "id": "067b48c9-e3c7-4f1a-ae82-7d87342138e0",
   "metadata": {},
   "outputs": [],
   "source": [
    "import pandas as pd\n",
    "import numpy as np\n",
    "import matplotlib.pyplot as plt\n",
    "from sklearn.model_selection import train_test_split\n",
    "from sklearn.linear_model import LogisticRegression, LogisticRegressionCV ,SGDClassifier\n",
    "from sklearn.model_selection import LearningCurveDisplay, ShuffleSplit"
   ]
  },
  {
   "cell_type": "code",
   "execution_count": 2,
   "id": "a9444bef-4b8b-4e19-9ee3-02430e3192eb",
   "metadata": {},
   "outputs": [
    {
     "name": "stdout",
     "output_type": "stream",
     "text": [
      "<class 'pandas.core.frame.DataFrame'>\n",
      "Int64Index: 97341 entries, 401 to 12388\n",
      "Data columns (total 12 columns):\n",
      " #   Column        Non-Null Count  Dtype  \n",
      "---  ------        --------------  -----  \n",
      " 0   ciclo         97341 non-null  int64  \n",
      " 1   Asignatura    97341 non-null  object \n",
      " 2   Convocatoria  97341 non-null  int64  \n",
      " 3   Anho          97341 non-null  int64  \n",
      " 4   Aprobado      97341 non-null  int64  \n",
      " 5   Anho.Firma    97341 non-null  int64  \n",
      " 6   Primer.Par    97341 non-null  int64  \n",
      " 7   Segundo.Par   97341 non-null  int64  \n",
      " 8   AOT           97341 non-null  int64  \n",
      " 9   Nota.Final    97341 non-null  object \n",
      " 10  id_anony      97341 non-null  object \n",
      " 11  Nota.Prom     97341 non-null  float64\n",
      "dtypes: float64(1), int64(8), object(3)\n",
      "memory usage: 9.7+ MB\n"
     ]
    }
   ],
   "source": [
    "file_path = \"PrimerParcial\\datasets\\datos_CB.csv\"\n",
    "student_data = pd.read_csv(file_path,index_col = 0)\n",
    "student_data.info()"
   ]
  },
  {
   "cell_type": "code",
   "execution_count": 3,
   "id": "3bcd6c1c-d49b-48c1-a2fc-94a0c7972604",
   "metadata": {},
   "outputs": [
    {
     "name": "stdout",
     "output_type": "stream",
     "text": [
      "      ciclo Asignatura  Convocatoria  Anho  Aprobado  Anho.Firma  Primer.Par  \\\n",
      "1744      2   ESTATICA             1  2012         0           0           2   \n",
      "1745      2   ESTATICA             1  2012         0           0           6   \n",
      "1746      2   ESTATICA             1  2012         1        2012          12   \n",
      "1747      2   ESTATICA             1  2012         0           0           1   \n",
      "1748      2   ESTATICA             1  2012         0           0           0   \n",
      "\n",
      "      Segundo.Par  AOT Nota.Final id_anony  Nota.Prom  \n",
      "1744           13    0        [0]   es_469        0.0  \n",
      "1745           11    0        [0]   es_470        0.0  \n",
      "1746           24    0        [2]   es_175        2.0  \n",
      "1747            1    0        [0]   es_910        0.0  \n",
      "1748            0    0        [0]  es_1475        0.0  \n"
     ]
    },
    {
     "name": "stderr",
     "output_type": "stream",
     "text": [
      "C:\\Users\\josec\\AppData\\Local\\Temp\\ipykernel_22544\\1700835858.py:6: SettingWithCopyWarning: \n",
      "A value is trying to be set on a copy of a slice from a DataFrame\n",
      "\n",
      "See the caveats in the documentation: https://pandas.pydata.org/pandas-docs/stable/user_guide/indexing.html#returning-a-view-versus-a-copy\n",
      "  course_data.drop([\"Asignatura\"],axis=1, inplace = True)\n"
     ]
    },
    {
     "data": {
      "text/html": [
       "<div>\n",
       "<style scoped>\n",
       "    .dataframe tbody tr th:only-of-type {\n",
       "        vertical-align: middle;\n",
       "    }\n",
       "\n",
       "    .dataframe tbody tr th {\n",
       "        vertical-align: top;\n",
       "    }\n",
       "\n",
       "    .dataframe thead th {\n",
       "        text-align: right;\n",
       "    }\n",
       "</style>\n",
       "<table border=\"1\" class=\"dataframe\">\n",
       "  <thead>\n",
       "    <tr style=\"text-align: right;\">\n",
       "      <th></th>\n",
       "      <th>ciclo</th>\n",
       "      <th>Convocatoria</th>\n",
       "      <th>Anho</th>\n",
       "      <th>Aprobado</th>\n",
       "      <th>Anho.Firma</th>\n",
       "      <th>Primer.Par</th>\n",
       "      <th>Segundo.Par</th>\n",
       "      <th>AOT</th>\n",
       "      <th>Nota.Final</th>\n",
       "      <th>id_anony</th>\n",
       "      <th>Nota.Prom</th>\n",
       "    </tr>\n",
       "  </thead>\n",
       "  <tbody>\n",
       "    <tr>\n",
       "      <th>1744</th>\n",
       "      <td>2</td>\n",
       "      <td>1</td>\n",
       "      <td>2012</td>\n",
       "      <td>0</td>\n",
       "      <td>0</td>\n",
       "      <td>2</td>\n",
       "      <td>13</td>\n",
       "      <td>0</td>\n",
       "      <td>[0]</td>\n",
       "      <td>es_469</td>\n",
       "      <td>0.0</td>\n",
       "    </tr>\n",
       "    <tr>\n",
       "      <th>1745</th>\n",
       "      <td>2</td>\n",
       "      <td>1</td>\n",
       "      <td>2012</td>\n",
       "      <td>0</td>\n",
       "      <td>0</td>\n",
       "      <td>6</td>\n",
       "      <td>11</td>\n",
       "      <td>0</td>\n",
       "      <td>[0]</td>\n",
       "      <td>es_470</td>\n",
       "      <td>0.0</td>\n",
       "    </tr>\n",
       "    <tr>\n",
       "      <th>1746</th>\n",
       "      <td>2</td>\n",
       "      <td>1</td>\n",
       "      <td>2012</td>\n",
       "      <td>1</td>\n",
       "      <td>2012</td>\n",
       "      <td>12</td>\n",
       "      <td>24</td>\n",
       "      <td>0</td>\n",
       "      <td>[2]</td>\n",
       "      <td>es_175</td>\n",
       "      <td>2.0</td>\n",
       "    </tr>\n",
       "    <tr>\n",
       "      <th>1747</th>\n",
       "      <td>2</td>\n",
       "      <td>1</td>\n",
       "      <td>2012</td>\n",
       "      <td>0</td>\n",
       "      <td>0</td>\n",
       "      <td>1</td>\n",
       "      <td>1</td>\n",
       "      <td>0</td>\n",
       "      <td>[0]</td>\n",
       "      <td>es_910</td>\n",
       "      <td>0.0</td>\n",
       "    </tr>\n",
       "    <tr>\n",
       "      <th>1748</th>\n",
       "      <td>2</td>\n",
       "      <td>1</td>\n",
       "      <td>2012</td>\n",
       "      <td>0</td>\n",
       "      <td>0</td>\n",
       "      <td>0</td>\n",
       "      <td>0</td>\n",
       "      <td>0</td>\n",
       "      <td>[0]</td>\n",
       "      <td>es_1475</td>\n",
       "      <td>0.0</td>\n",
       "    </tr>\n",
       "  </tbody>\n",
       "</table>\n",
       "</div>"
      ],
      "text/plain": [
       "      ciclo  Convocatoria  Anho  Aprobado  Anho.Firma  Primer.Par  \\\n",
       "1744      2             1  2012         0           0           2   \n",
       "1745      2             1  2012         0           0           6   \n",
       "1746      2             1  2012         1        2012          12   \n",
       "1747      2             1  2012         0           0           1   \n",
       "1748      2             1  2012         0           0           0   \n",
       "\n",
       "      Segundo.Par  AOT Nota.Final id_anony  Nota.Prom  \n",
       "1744           13    0        [0]   es_469        0.0  \n",
       "1745           11    0        [0]   es_470        0.0  \n",
       "1746           24    0        [2]   es_175        2.0  \n",
       "1747            1    0        [0]   es_910        0.0  \n",
       "1748            0    0        [0]  es_1475        0.0  "
      ]
     },
     "execution_count": 3,
     "metadata": {},
     "output_type": "execute_result"
    }
   ],
   "source": [
    "#i could make a dict with the course as key\n",
    "course = \"ESTATICA\"\n",
    "condition = student_data[\"Asignatura\"] == course\n",
    "course_data = student_data[condition]\n",
    "print(course_data.head())\n",
    "course_data.drop([\"Asignatura\"],axis=1, inplace = True)\n",
    "course_data.head()"
   ]
  },
  {
   "cell_type": "code",
   "execution_count": 4,
   "id": "6e5e3cd4-a56f-4b1d-a9f4-69c6becba3ce",
   "metadata": {},
   "outputs": [],
   "source": [
    "%%capture\n",
    "print(np.unique(course_data[\"Anho\"]))"
   ]
  },
  {
   "cell_type": "markdown",
   "id": "40b9d6d3-847f-4966-8d2b-eeb6d27a1a44",
   "metadata": {},
   "source": [
    "### Info about the course"
   ]
  },
  {
   "cell_type": "code",
   "execution_count": 5,
   "id": "8121296c-2e30-4a4d-a5af-2d7a1adc0478",
   "metadata": {},
   "outputs": [
    {
     "data": {
      "text/plain": [
       "count    4824.000000\n",
       "mean        9.337894\n",
       "std         5.849116\n",
       "min         0.000000\n",
       "25%         5.000000\n",
       "50%        10.000000\n",
       "75%        14.000000\n",
       "max        24.000000\n",
       "Name: Primer.Par, dtype: float64"
      ]
     },
     "execution_count": 5,
     "metadata": {},
     "output_type": "execute_result"
    }
   ],
   "source": [
    "course_data[\"Primer.Par\"].describe()"
   ]
  },
  {
   "cell_type": "code",
   "execution_count": 6,
   "id": "9780d9b2-1449-41af-a9bb-f6bbf210bda8",
   "metadata": {},
   "outputs": [
    {
     "name": "stdout",
     "output_type": "stream",
     "text": [
      "Approved: 1818\n",
      "Not approved: 3006\n",
      "Total: 4824\n"
     ]
    }
   ],
   "source": [
    "approved = len(course_data[course_data[\"Aprobado\"]==1])\n",
    "not_approved = len(course_data[course_data[\"Aprobado\"] == 0])\n",
    "total = len(course_data[\"Aprobado\"])\n",
    "print(f\"Approved: {approved}\\nNot approved: {not_approved}\\nTotal: {total}\")"
   ]
  },
  {
   "cell_type": "markdown",
   "id": "6c2bd1dd-0dde-43e2-83d7-61b136141af9",
   "metadata": {},
   "source": [
    "### Creating a new column that is attempt number"
   ]
  },
  {
   "cell_type": "code",
   "execution_count": 7,
   "id": "921ec363-0593-4b62-98fc-8bf611cc641f",
   "metadata": {},
   "outputs": [],
   "source": [
    "def count_attemps(course_data):\n",
    "    course_data = course_data.sort_values(by=['id_anony','Anho'])\n",
    "    last_id = course_data['id_anony'].iloc[0]\n",
    "    counter = 0\n",
    "    for index,row in course_data.iterrows():\n",
    "        #print(index)\n",
    "        if row['id_anony'] == last_id:\n",
    "            counter += 1 \n",
    "            course_data.loc[index,['Num.Intento']] = counter\n",
    "        else:\n",
    "            last_id = row['id_anony']\n",
    "            course_data.loc[index,['Num.Intento']] = 1\n",
    "            counter = 1\n",
    "    return course_data"
   ]
  },
  {
   "cell_type": "code",
   "execution_count": 8,
   "id": "5f04bea9-4a9b-41bd-b29c-58a0a9f1db07",
   "metadata": {},
   "outputs": [],
   "source": [
    "course_data = count_attemps(course_data)"
   ]
  },
  {
   "cell_type": "markdown",
   "id": "3fc9a6df-3641-4c41-a9ce-7b3172bc860d",
   "metadata": {},
   "source": [
    "### Train split"
   ]
  },
  {
   "cell_type": "code",
   "execution_count": 9,
   "id": "e14dbd6b-b659-4b91-a539-5ca2af2af2c2",
   "metadata": {},
   "outputs": [
    {
     "name": "stdout",
     "output_type": "stream",
     "text": [
      "train shape: (3859, 12)\n",
      "test shape: (965, 12)\n"
     ]
    }
   ],
   "source": [
    "df_train, df_test= train_test_split(course_data, test_size=0.2, random_state=0)\n",
    "print(\"train shape:\",df_train.shape)\n",
    "print(\"test shape:\",df_test.shape)"
   ]
  },
  {
   "cell_type": "markdown",
   "id": "f3b95b4a-c7cf-4eb4-a9b1-c1c06f1fbf3a",
   "metadata": {},
   "source": [
    "### Separating data and label"
   ]
  },
  {
   "cell_type": "code",
   "execution_count": 10,
   "id": "6cdc8662-8698-4868-9169-41f9c2cc810e",
   "metadata": {},
   "outputs": [],
   "source": [
    "# Separating training data into predictors and predictand\n",
    "use_cols = [column for column in df_train.columns if column not in ['Aprobado']]\n",
    "train_x = df_train[use_cols]\n",
    "train_y = df_train['Aprobado']\n",
    "\n",
    "# Separating testing data into predictors and predictand\n",
    "test_x = df_test[use_cols]\n",
    "test_y = df_test['Aprobado']"
   ]
  },
  {
   "cell_type": "code",
   "execution_count": 11,
   "id": "7599fc51-bee1-4e77-bafd-2ab3baaf4d3d",
   "metadata": {},
   "outputs": [],
   "source": [
    "train_x.head()\n",
    "train_x = train_x.drop(['Nota.Final'],axis=1)\n",
    "train_x_noId = train_x.drop(['id_anony'],axis=1)"
   ]
  },
  {
   "cell_type": "code",
   "execution_count": 12,
   "id": "bc0bba1e-f1c0-49eb-b3ce-17c70b3d2a49",
   "metadata": {},
   "outputs": [
    {
     "name": "stdout",
     "output_type": "stream",
     "text": [
      "<class 'pandas.core.frame.DataFrame'>\n",
      "Int64Index: 3859 entries, 5013 to 4874\n",
      "Data columns (total 10 columns):\n",
      " #   Column        Non-Null Count  Dtype  \n",
      "---  ------        --------------  -----  \n",
      " 0   ciclo         3859 non-null   int64  \n",
      " 1   Convocatoria  3859 non-null   int64  \n",
      " 2   Anho          3859 non-null   int64  \n",
      " 3   Anho.Firma    3859 non-null   int64  \n",
      " 4   Primer.Par    3859 non-null   int64  \n",
      " 5   Segundo.Par   3859 non-null   int64  \n",
      " 6   AOT           3859 non-null   int64  \n",
      " 7   id_anony      3859 non-null   object \n",
      " 8   Nota.Prom     3859 non-null   float64\n",
      " 9   Num.Intento   3859 non-null   float64\n",
      "dtypes: float64(2), int64(7), object(1)\n",
      "memory usage: 331.6+ KB\n"
     ]
    }
   ],
   "source": [
    "train_x.info()"
   ]
  },
  {
   "cell_type": "code",
   "execution_count": 13,
   "id": "c3cd4bfb-3c6e-4745-9764-2d29ad9b942e",
   "metadata": {},
   "outputs": [],
   "source": [
    "test_x = test_x.drop(['Nota.Final'],axis=1)\n",
    "test_x_noId = test_x.drop(['id_anony'],axis=1)"
   ]
  },
  {
   "cell_type": "code",
   "execution_count": 14,
   "id": "1f573749-1c8a-4495-9d2f-405191ad218b",
   "metadata": {},
   "outputs": [],
   "source": [
    "def process(mod, x, y, test_x, test_y,course):\n",
    "    model = mod.fit(x,y)\n",
    "    predicted_y = model.predict(test_x)\n",
    "    score = model.score(test_x,test_y)\n",
    "    print(f\"Model score for {course.lower()}: {score}\")\n",
    "    print(f\"Parameters: \\n{model.feature_names_in_}\")\n",
    "    print(f\"iterations: {model.n_iter_}\")\n",
    "    print(f\"coefs: {model.coef_}\")"
   ]
  },
  {
   "cell_type": "markdown",
   "id": "34ccc032-16ad-401b-91a1-8eb50e1e0ef4",
   "metadata": {},
   "source": [
    "### Checking the accuracy if I use Logistic regression over all the labels"
   ]
  },
  {
   "cell_type": "code",
   "execution_count": 15,
   "id": "b162b5a6-6f66-49d6-9128-bca878098e78",
   "metadata": {},
   "outputs": [
    {
     "name": "stdout",
     "output_type": "stream",
     "text": [
      "Model score for estatica: 1.0\n",
      "Parameters: \n",
      "['ciclo' 'Convocatoria' 'Anho' 'Anho.Firma' 'Primer.Par' 'Segundo.Par'\n",
      " 'AOT' 'Nota.Prom' 'Num.Intento']\n",
      "iterations: [185]\n",
      "coefs: [[ 3.42329937e-01 -5.71583121e-01 -7.59054321e-03  5.90558086e-04\n",
      "   4.06439288e-02  4.03563380e-02  3.54840306e-03  1.01140860e+01\n",
      "   6.14443550e-02]]\n"
     ]
    }
   ],
   "source": [
    "default_LR = LogisticRegression(max_iter=1000)\n",
    "process(default_LR,train_x_noId,train_y,test_x_noId,test_y,course)"
   ]
  },
  {
   "cell_type": "markdown",
   "id": "ac19137f-cbba-4d80-8d1e-39bbb27d6a85",
   "metadata": {},
   "source": [
    "# Droping some labels"
   ]
  },
  {
   "cell_type": "code",
   "execution_count": 16,
   "id": "9529681c-2d3e-493e-a4b7-c7217f33523c",
   "metadata": {},
   "outputs": [],
   "source": [
    "def data_process(df):\n",
    "    if 'ciclo' in df:\n",
    "        df = df.drop(['ciclo','Segundo.Par','AOT','Nota.Prom'],axis=1)\n",
    "    if 'Nota.Final' in df:\n",
    "        df = df.drop(['Nota.Final'],axis=1)\n",
    "    #df['Anho.Firma'] = np.where(df['Anho.Firma']==0, df['Anho'], df['Anho.Firma'])\n",
    "    df = df.drop(['Anho.Firma'],axis=1)\n",
    "    print(df)\n",
    "    df = df.drop(['id_anony'],axis=1)\n",
    "    return df\n"
   ]
  },
  {
   "cell_type": "code",
   "execution_count": 17,
   "id": "a37acce0-d590-4003-a146-e7168da04111",
   "metadata": {},
   "outputs": [],
   "source": [
    "%%capture\n",
    "new_train_x = data_process(train_x)"
   ]
  },
  {
   "cell_type": "code",
   "execution_count": 18,
   "id": "d491f276-4d43-4b10-a899-ea880249a3c1",
   "metadata": {},
   "outputs": [
    {
     "data": {
      "text/html": [
       "<div>\n",
       "<style scoped>\n",
       "    .dataframe tbody tr th:only-of-type {\n",
       "        vertical-align: middle;\n",
       "    }\n",
       "\n",
       "    .dataframe tbody tr th {\n",
       "        vertical-align: top;\n",
       "    }\n",
       "\n",
       "    .dataframe thead th {\n",
       "        text-align: right;\n",
       "    }\n",
       "</style>\n",
       "<table border=\"1\" class=\"dataframe\">\n",
       "  <thead>\n",
       "    <tr style=\"text-align: right;\">\n",
       "      <th></th>\n",
       "      <th>Convocatoria</th>\n",
       "      <th>Anho</th>\n",
       "      <th>Primer.Par</th>\n",
       "      <th>Num.Intento</th>\n",
       "    </tr>\n",
       "  </thead>\n",
       "  <tbody>\n",
       "    <tr>\n",
       "      <th>5013</th>\n",
       "      <td>1</td>\n",
       "      <td>2014</td>\n",
       "      <td>8</td>\n",
       "      <td>4.0</td>\n",
       "    </tr>\n",
       "    <tr>\n",
       "      <th>5009</th>\n",
       "      <td>1</td>\n",
       "      <td>2017</td>\n",
       "      <td>6</td>\n",
       "      <td>4.0</td>\n",
       "    </tr>\n",
       "    <tr>\n",
       "      <th>5356</th>\n",
       "      <td>1</td>\n",
       "      <td>2021</td>\n",
       "      <td>0</td>\n",
       "      <td>6.0</td>\n",
       "    </tr>\n",
       "    <tr>\n",
       "      <th>5174</th>\n",
       "      <td>1</td>\n",
       "      <td>2021</td>\n",
       "      <td>0</td>\n",
       "      <td>1.0</td>\n",
       "    </tr>\n",
       "    <tr>\n",
       "      <th>5533</th>\n",
       "      <td>1</td>\n",
       "      <td>2015</td>\n",
       "      <td>9</td>\n",
       "      <td>1.0</td>\n",
       "    </tr>\n",
       "    <tr>\n",
       "      <th>...</th>\n",
       "      <td>...</td>\n",
       "      <td>...</td>\n",
       "      <td>...</td>\n",
       "      <td>...</td>\n",
       "    </tr>\n",
       "    <tr>\n",
       "      <th>9946</th>\n",
       "      <td>1</td>\n",
       "      <td>2016</td>\n",
       "      <td>6</td>\n",
       "      <td>2.0</td>\n",
       "    </tr>\n",
       "    <tr>\n",
       "      <th>6285</th>\n",
       "      <td>2</td>\n",
       "      <td>2019</td>\n",
       "      <td>1</td>\n",
       "      <td>3.0</td>\n",
       "    </tr>\n",
       "    <tr>\n",
       "      <th>4407</th>\n",
       "      <td>1</td>\n",
       "      <td>2016</td>\n",
       "      <td>14</td>\n",
       "      <td>2.0</td>\n",
       "    </tr>\n",
       "    <tr>\n",
       "      <th>3411</th>\n",
       "      <td>1</td>\n",
       "      <td>2018</td>\n",
       "      <td>3</td>\n",
       "      <td>2.0</td>\n",
       "    </tr>\n",
       "    <tr>\n",
       "      <th>4874</th>\n",
       "      <td>1</td>\n",
       "      <td>2017</td>\n",
       "      <td>0</td>\n",
       "      <td>1.0</td>\n",
       "    </tr>\n",
       "  </tbody>\n",
       "</table>\n",
       "<p>3859 rows × 4 columns</p>\n",
       "</div>"
      ],
      "text/plain": [
       "      Convocatoria  Anho  Primer.Par  Num.Intento\n",
       "5013             1  2014           8          4.0\n",
       "5009             1  2017           6          4.0\n",
       "5356             1  2021           0          6.0\n",
       "5174             1  2021           0          1.0\n",
       "5533             1  2015           9          1.0\n",
       "...            ...   ...         ...          ...\n",
       "9946             1  2016           6          2.0\n",
       "6285             2  2019           1          3.0\n",
       "4407             1  2016          14          2.0\n",
       "3411             1  2018           3          2.0\n",
       "4874             1  2017           0          1.0\n",
       "\n",
       "[3859 rows x 4 columns]"
      ]
     },
     "execution_count": 18,
     "metadata": {},
     "output_type": "execute_result"
    }
   ],
   "source": [
    "new_train_x"
   ]
  },
  {
   "cell_type": "code",
   "execution_count": 19,
   "id": "0078a06e-e12c-4da3-98e3-aff50e9e4754",
   "metadata": {},
   "outputs": [],
   "source": [
    "%%capture\n",
    "new_test_x = data_process(test_x)"
   ]
  },
  {
   "cell_type": "code",
   "execution_count": 20,
   "id": "fc399a57-d1cc-4527-9a77-22bb26dba69e",
   "metadata": {},
   "outputs": [],
   "source": [
    "%%capture\n",
    "new_x = data_process(course_data)\n",
    "y = new_x['Aprobado']\n",
    "new_x = new_x.drop(['Aprobado'],axis=1)\n",
    "y"
   ]
  },
  {
   "cell_type": "code",
   "execution_count": 21,
   "id": "8f6f9c64-6753-449a-99ee-9a9e0c373457",
   "metadata": {},
   "outputs": [],
   "source": [
    "import seaborn as sns"
   ]
  },
  {
   "cell_type": "code",
   "execution_count": 22,
   "id": "e939422e-78c5-46f9-bb29-e907af459212",
   "metadata": {},
   "outputs": [
    {
     "data": {
      "text/plain": [
       "<seaborn.axisgrid.PairGrid at 0x18dd4b464a0>"
      ]
     },
     "execution_count": 22,
     "metadata": {},
     "output_type": "execute_result"
    },
    {
     "data": {
      "image/png": "[encoded data removed]",
      "text/plain": [
       "<Figure size 1000x1000 with 20 Axes>"
      ]
     },
     "metadata": {},
     "output_type": "display_data"
    }
   ],
   "source": [
    "sns.pairplot(data=new_train_x, diag_kind='kde')"
   ]
  },
  {
   "cell_type": "code",
   "execution_count": 23,
   "id": "d1e94460-5c5c-4b67-abda-cc4e93d13446",
   "metadata": {},
   "outputs": [
    {
     "data": {
      "image/png": "[encoded data removed]",
      "text/plain": [
       "<Figure size 640x480 with 2 Axes>"
      ]
     },
     "metadata": {},
     "output_type": "display_data"
    }
   ],
   "source": [
    "sns.heatmap(new_train_x[['Convocatoria', 'Anho', 'Primer.Par', 'Num.Intento']].corr(), cmap='Blues', annot=True)\n",
    "plt.show()"
   ]
  },
  {
   "cell_type": "markdown",
   "id": "185e383f-53b3-42eb-b3b6-1486ea79871e",
   "metadata": {},
   "source": [
    "### Hay que analizar si vale la pena colocar como features independientes Anho y Convocatoria"
   ]
  },
  {
   "cell_type": "code",
   "execution_count": 24,
   "id": "d2252898-afb2-42bd-9bf0-b248756675c7",
   "metadata": {},
   "outputs": [
    {
     "name": "stdout",
     "output_type": "stream",
     "text": [
      "Model score for estatica: 0.7595854922279792\n",
      "Parameters: \n",
      "['Convocatoria' 'Anho' 'Primer.Par' 'Num.Intento']\n",
      "iterations: [18]\n",
      "coefs: [[-1.72216969e-04 -1.73901356e-03  2.84288066e-01  6.77856143e-04]]\n"
     ]
    }
   ],
   "source": [
    "LR = LogisticRegression()\n",
    "process(LR,new_train_x,train_y,new_test_x,test_y,course)"
   ]
  },
  {
   "cell_type": "code",
   "execution_count": 25,
   "id": "bb063244-d7e4-4586-ac47-d170d05303fa",
   "metadata": {},
   "outputs": [],
   "source": [
    "SGDC = SGDClassifier()"
   ]
  },
  {
   "cell_type": "code",
   "execution_count": 26,
   "id": "7eb45067-ecb8-49fe-a496-1921a3381292",
   "metadata": {
    "tags": []
   },
   "outputs": [
    {
     "data": {
      "text/plain": [
       "[<matplotlib.lines.Line2D at 0x18dd0c94970>]"
      ]
     },
     "execution_count": 26,
     "metadata": {},
     "output_type": "execute_result"
    },
    {
     "data": {
      "image/png": "[encoded data removed]",
      "text/plain": [
       "<Figure size 640x480 with 1 Axes>"
      ]
     },
     "metadata": {},
     "output_type": "display_data"
    }
   ],
   "source": [
    "from sklearn.model_selection import learning_curve\n",
    "\n",
    "train_sizes, train_scores, test_scores, fit_times, _ = learning_curve(LR, new_train_x, train_y, return_times=True, train_sizes=np.linspace(0.1, 1.0, 200))\n",
    "plt.plot(train_sizes,np.mean(train_scores,axis=1))\n",
    "plt.plot(train_sizes,np.mean(test_scores,axis=1))\n",
    "\n"
   ]
  },
  {
   "cell_type": "markdown",
   "id": "62d726e3-30cd-49cb-889f-3687df502a8a",
   "metadata": {
    "tags": []
   },
   "source": [
    "# Scaling"
   ]
  },
  {
   "cell_type": "code",
   "execution_count": 27,
   "id": "4d31a902-6bac-45dd-b39a-6821bcdffb98",
   "metadata": {},
   "outputs": [],
   "source": [
    "from sklearn.preprocessing import StandardScaler"
   ]
  },
  {
   "cell_type": "code",
   "execution_count": 28,
   "id": "04df679f-331b-4703-80d8-c517b99c4551",
   "metadata": {},
   "outputs": [
    {
     "data": {
      "text/html": [
       "<div>\n",
       "<style scoped>\n",
       "    .dataframe tbody tr th:only-of-type {\n",
       "        vertical-align: middle;\n",
       "    }\n",
       "\n",
       "    .dataframe tbody tr th {\n",
       "        vertical-align: top;\n",
       "    }\n",
       "\n",
       "    .dataframe thead th {\n",
       "        text-align: right;\n",
       "    }\n",
       "</style>\n",
       "<table border=\"1\" class=\"dataframe\">\n",
       "  <thead>\n",
       "    <tr style=\"text-align: right;\">\n",
       "      <th></th>\n",
       "      <th>Convocatoria</th>\n",
       "      <th>Anho</th>\n",
       "      <th>Primer.Par</th>\n",
       "      <th>Num.Intento</th>\n",
       "    </tr>\n",
       "  </thead>\n",
       "  <tbody>\n",
       "    <tr>\n",
       "      <th>5013</th>\n",
       "      <td>-0.423558</td>\n",
       "      <td>-0.757907</td>\n",
       "      <td>-0.228085</td>\n",
       "      <td>4.0</td>\n",
       "    </tr>\n",
       "    <tr>\n",
       "      <th>5009</th>\n",
       "      <td>-0.423558</td>\n",
       "      <td>0.378218</td>\n",
       "      <td>-0.571102</td>\n",
       "      <td>4.0</td>\n",
       "    </tr>\n",
       "    <tr>\n",
       "      <th>5356</th>\n",
       "      <td>-0.423558</td>\n",
       "      <td>1.893051</td>\n",
       "      <td>-1.600152</td>\n",
       "      <td>6.0</td>\n",
       "    </tr>\n",
       "    <tr>\n",
       "      <th>5174</th>\n",
       "      <td>-0.423558</td>\n",
       "      <td>1.893051</td>\n",
       "      <td>-1.600152</td>\n",
       "      <td>1.0</td>\n",
       "    </tr>\n",
       "    <tr>\n",
       "      <th>5533</th>\n",
       "      <td>-0.423558</td>\n",
       "      <td>-0.379199</td>\n",
       "      <td>-0.056577</td>\n",
       "      <td>1.0</td>\n",
       "    </tr>\n",
       "    <tr>\n",
       "      <th>...</th>\n",
       "      <td>...</td>\n",
       "      <td>...</td>\n",
       "      <td>...</td>\n",
       "      <td>...</td>\n",
       "    </tr>\n",
       "    <tr>\n",
       "      <th>9946</th>\n",
       "      <td>-0.423558</td>\n",
       "      <td>-0.000491</td>\n",
       "      <td>-0.571102</td>\n",
       "      <td>2.0</td>\n",
       "    </tr>\n",
       "    <tr>\n",
       "      <th>6285</th>\n",
       "      <td>2.360954</td>\n",
       "      <td>1.135634</td>\n",
       "      <td>-1.428644</td>\n",
       "      <td>3.0</td>\n",
       "    </tr>\n",
       "    <tr>\n",
       "      <th>4407</th>\n",
       "      <td>-0.423558</td>\n",
       "      <td>-0.000491</td>\n",
       "      <td>0.800965</td>\n",
       "      <td>2.0</td>\n",
       "    </tr>\n",
       "    <tr>\n",
       "      <th>3411</th>\n",
       "      <td>-0.423558</td>\n",
       "      <td>0.756926</td>\n",
       "      <td>-1.085627</td>\n",
       "      <td>2.0</td>\n",
       "    </tr>\n",
       "    <tr>\n",
       "      <th>4874</th>\n",
       "      <td>-0.423558</td>\n",
       "      <td>0.378218</td>\n",
       "      <td>-1.600152</td>\n",
       "      <td>1.0</td>\n",
       "    </tr>\n",
       "  </tbody>\n",
       "</table>\n",
       "<p>3859 rows × 4 columns</p>\n",
       "</div>"
      ],
      "text/plain": [
       "      Convocatoria      Anho  Primer.Par  Num.Intento\n",
       "5013     -0.423558 -0.757907   -0.228085          4.0\n",
       "5009     -0.423558  0.378218   -0.571102          4.0\n",
       "5356     -0.423558  1.893051   -1.600152          6.0\n",
       "5174     -0.423558  1.893051   -1.600152          1.0\n",
       "5533     -0.423558 -0.379199   -0.056577          1.0\n",
       "...            ...       ...         ...          ...\n",
       "9946     -0.423558 -0.000491   -0.571102          2.0\n",
       "6285      2.360954  1.135634   -1.428644          3.0\n",
       "4407     -0.423558 -0.000491    0.800965          2.0\n",
       "3411     -0.423558  0.756926   -1.085627          2.0\n",
       "4874     -0.423558  0.378218   -1.600152          1.0\n",
       "\n",
       "[3859 rows x 4 columns]"
      ]
     },
     "execution_count": 28,
     "metadata": {},
     "output_type": "execute_result"
    }
   ],
   "source": [
    "sc = StandardScaler()\n",
    "#columns = ['Convocatoria', 'Anho', 'Primer.Par', 'Num.Intento']\n",
    "columns = ['Convocatoria', 'Anho', 'Primer.Par']\n",
    "scaled_train_x = sc.fit_transform(new_train_x[columns])\n",
    "scaled_test_x = sc.transform(new_test_x[columns])\n",
    "scaled_train_x = pd.DataFrame(scaled_train_x, index=new_train_x.index, columns=columns)\n",
    "scaled_test_x = pd.DataFrame(scaled_test_x, index=new_test_x.index, columns=columns)\n",
    "scaled_train_x = pd.concat([scaled_train_x, new_train_x['Num.Intento']],axis=1)\n",
    "scaled_test_x = pd.concat([scaled_test_x, new_test_x['Num.Intento']],axis=1)\n",
    "scaled_train_x"
   ]
  },
  {
   "cell_type": "code",
   "execution_count": 29,
   "id": "eb9de082-6a4e-4045-ace2-819c800f8954",
   "metadata": {},
   "outputs": [
    {
     "name": "stdout",
     "output_type": "stream",
     "text": [
      "Model score for estatica: 0.7626943005181347\n",
      "Parameters: \n",
      "['Convocatoria' 'Anho' 'Primer.Par' 'Num.Intento']\n",
      "iterations: [13]\n",
      "coefs: [[-0.007215   -0.35880198  1.71962695  0.06844423]]\n"
     ]
    }
   ],
   "source": [
    "process(LR,scaled_train_x,train_y,scaled_test_x,test_y,course)"
   ]
  },
  {
   "cell_type": "markdown",
   "id": "e67d7069-5b92-4e85-b3de-94270216d455",
   "metadata": {},
   "source": [
    "# Kmeans"
   ]
  },
  {
   "cell_type": "code",
   "execution_count": 30,
   "id": "358aa23e-2877-4430-b61a-a55370cd9bc1",
   "metadata": {},
   "outputs": [
    {
     "name": "stdout",
     "output_type": "stream",
     "text": [
      "      Convocatoria      Anho  Primer.Par  Num.Intento  tipo.Alumno\n",
      "5013     -0.423558 -0.757907   -0.228085          4.0            0\n",
      "5009     -0.423558  0.378218   -0.571102          4.0            0\n",
      "5356     -0.423558  1.893051   -1.600152          6.0            0\n",
      "5174     -0.423558  1.893051   -1.600152          1.0            1\n",
      "5533     -0.423558 -0.379199   -0.056577          1.0            1\n",
      "...            ...       ...         ...          ...          ...\n",
      "9946     -0.423558 -0.000491   -0.571102          2.0            1\n",
      "6285      2.360954  1.135634   -1.428644          3.0            2\n",
      "4407     -0.423558 -0.000491    0.800965          2.0            1\n",
      "3411     -0.423558  0.756926   -1.085627          2.0            1\n",
      "4874     -0.423558  0.378218   -1.600152          1.0            1\n",
      "\n",
      "[3859 rows x 5 columns]\n"
     ]
    },
    {
     "name": "stderr",
     "output_type": "stream",
     "text": [
      "C:\\Users\\josec\\anaconda3\\envs\\IA\\lib\\site-packages\\sklearn\\cluster\\_kmeans.py:870: FutureWarning: The default value of `n_init` will change from 10 to 'auto' in 1.4. Set the value of `n_init` explicitly to suppress the warning\n",
      "  warnings.warn(\n"
     ]
    }
   ],
   "source": [
    "from sklearn.cluster import KMeans\n",
    "features=['Convocatoria','Anho','Primer.Par','Num.Intento']\n",
    "kmeans = KMeans(n_clusters=3)\n",
    "kmeans.fit(scaled_train_x[features])\n",
    "scaled_train_x['tipo.Alumno'] = kmeans.predict(scaled_train_x[features])\n",
    "print(scaled_train_x)\n",
    "\n",
    "scaled_test_x['tipo.Alumno'] = kmeans.predict(scaled_test_x[features])\n",
    "#df['location_north']=df.apply(lambda x: get_north(x['location_northeast'], x['location_northwest']), axis=1)\n",
    "#df['location_south']=df.apply(lambda x: get_south(x['location_southwest'], x['location_southeast']), axis=1)\n",
    "#df['more_than_1_child']=df.children.apply(lambda x:1 if x>1 else 0)"
   ]
  },
  {
   "cell_type": "code",
   "execution_count": 31,
   "id": "4ee66050-9496-47ed-b211-b19e08616db5",
   "metadata": {},
   "outputs": [
    {
     "name": "stdout",
     "output_type": "stream",
     "text": [
      "Model score for estatica: 0.7626943005181347\n",
      "Parameters: \n",
      "['Convocatoria' 'Anho' 'Primer.Par' 'Num.Intento' 'tipo.Alumno']\n",
      "iterations: [18]\n",
      "coefs: [[-0.21551555 -0.36050501  1.72104709  0.21620504  0.51795267]]\n"
     ]
    }
   ],
   "source": [
    "process(LR,scaled_train_x,train_y,scaled_test_x,test_y,course)"
   ]
  },
  {
   "cell_type": "markdown",
   "id": "44b6c268-fba0-4d02-9e91-716397f536fa",
   "metadata": {},
   "source": [
    "# Quantile transformer"
   ]
  },
  {
   "cell_type": "code",
   "execution_count": 32,
   "id": "d438c22c-4540-4979-8c0d-438776853af4",
   "metadata": {},
   "outputs": [
    {
     "name": "stdout",
     "output_type": "stream",
     "text": [
      "Model score for estatica: 0.7523316062176166\n",
      "Parameters: \n",
      "['Convocatoria' 'Anho' 'Primer.Par' 'Num.Intento' 'tipo.Alumno']\n",
      "iterations: [20]\n",
      "coefs: [[-0.07079259  0.0089319   1.19459885  0.0499807   0.06509945]]\n"
     ]
    }
   ],
   "source": [
    "from sklearn.compose import TransformedTargetRegressor\n",
    "from sklearn.preprocessing import QuantileTransformer\n",
    "\n",
    "from sklearn import preprocessing\n",
    "from sklearn import utils\n",
    "\n",
    "#convert y values to categorical values\n",
    "lab = preprocessing.LabelEncoder()\n",
    "y_transformed = lab.fit_transform(train_y)\n",
    "\n",
    "qt = QuantileTransformer(output_distribution='normal')\n",
    "transformed = qt.fit_transform(scaled_train_x)\n",
    "transformed = pd.DataFrame(transformed, index=scaled_train_x.index, columns=scaled_train_x.columns)\n",
    "\n",
    "transformed_test = qt.transform(scaled_test_x)\n",
    "transformed_test = pd.DataFrame(transformed_test, index=scaled_test_x.index, columns=scaled_test_x.columns)\n",
    "\n",
    "#sns.pairplot(data=transformed, diag_kind='kde')\n",
    "\n",
    "process(LR,transformed,train_y,transformed_test,test_y,course)\n",
    "#regr_trans.fit(scaled_train_x, y_transformed)\n",
    "#yhat = regr_trans.predict(scaled_test_x)\n",
    "#round(r2_score(test_y, yhat), 3), round(mean_absolute_error(test_y, yhat), 2), round(np.sqrt(mean_squared_error(test_y, yhat)),2)\n"
   ]
  },
  {
   "cell_type": "markdown",
   "id": "8341ed91-79d3-4e5b-a86a-b9bb54a79d6b",
   "metadata": {},
   "source": [
    "# Hyperparameter tuning\n"
   ]
  },
  {
   "cell_type": "code",
   "execution_count": 33,
   "id": "23249757-e353-45ee-94d7-26af61e13f17",
   "metadata": {},
   "outputs": [],
   "source": [
    "import numpy as np\n",
    "from sklearn import linear_model, decomposition, datasets\n",
    "from sklearn.pipeline import Pipeline\n",
    "from sklearn.model_selection import GridSearchCV\n",
    "from sklearn.preprocessing import StandardScaler, MinMaxScaler\n",
    "\n",
    "from tempfile import mkdtemp\n",
    "from shutil import rmtree"
   ]
  },
  {
   "cell_type": "code",
   "execution_count": 34,
   "id": "c017661d-3e92-4633-abf8-e8de3adebc55",
   "metadata": {},
   "outputs": [],
   "source": [
    "def hyperparam_search(x,y):\n",
    "    std_slc = StandardScaler()\n",
    "    pca = decomposition.PCA()\n",
    "    logistic_Reg = linear_model.LogisticRegression(solver='liblinear',max_iter=1000)\n",
    "    cachedir = mkdtemp()\n",
    "\n",
    "    pipe = Pipeline(steps = [('scaler', StandardScaler()), ('pca', pca), ('logistic_Reg', logistic_Reg)],memory=cachedir)\n",
    "    n_components = list(range(1,x.shape[1]+1,1))\n",
    "\n",
    "    C = np.logspace(-4, 4, 50)\n",
    "    #C = [0.001, 0.01, 0.1, 1, 10, 100]\n",
    "    penalty = ['l1', 'l2']\n",
    "\n",
    "    parameters = [\n",
    "        {'logistic_Reg__solver' : ['liblinear'],\n",
    "            'pca__n_components' : n_components,\n",
    "                          'scaler' : [StandardScaler(), MinMaxScaler()],\n",
    "                          'logistic_Reg__C' : C,\n",
    "                          'logistic_Reg__penalty' : penalty[0:2]},\n",
    "        {'logistic_Reg__solver' : ['newton-cg', 'lbfgs','newton-cholesky'],\n",
    "            'pca__n_components' : n_components,\n",
    "                          'scaler' : [StandardScaler(), MinMaxScaler()],\n",
    "                          'logistic_Reg__C' : C,\n",
    "                          'logistic_Reg__penalty' : penalty[1:]}\n",
    "                      ]\n",
    "\n",
    "\n",
    "    clf_GS = GridSearchCV(pipe, parameters, scoring = 'accuracy', n_jobs=-1)\n",
    "    clf_GS.fit(x, y)\n",
    "    \n",
    "    best_parameters = clf_GS.best_estimator_.get_params()\n",
    "    for param_name in sorted(parameters[0].keys()):\n",
    "        print(f\"{param_name}: {best_parameters[param_name]}\")\n",
    "    print(f\"best score: {clf_GS.best_score_}\")\n",
    "    print(clf_GS.best_estimator_.get_params()['logistic_Reg'])"
   ]
  },
  {
   "cell_type": "code",
   "execution_count": 35,
   "id": "13e068d1-cba7-4398-8931-04a7be5e015e",
   "metadata": {},
   "outputs": [
    {
     "name": "stdout",
     "output_type": "stream",
     "text": [
      "logistic_Reg__C: 0.08685113737513521\n",
      "logistic_Reg__penalty: l2\n",
      "logistic_Reg__solver: liblinear\n",
      "pca__n_components: 4\n",
      "scaler: MinMaxScaler()\n",
      "best score: 0.7742925209841199\n",
      "LogisticRegression(C=0.08685113737513521, max_iter=1000, solver='liblinear')\n"
     ]
    }
   ],
   "source": [
    " hyperparam_search(new_train_x,train_y)"
   ]
  },
  {
   "cell_type": "code",
   "execution_count": 40,
   "id": "bc46fcaf-876f-4263-8c4b-34e45aa49e06",
   "metadata": {},
   "outputs": [
    {
     "data": {
      "text/plain": [
       "0.7626943005181347"
      ]
     },
     "execution_count": 40,
     "metadata": {},
     "output_type": "execute_result"
    }
   ],
   "source": [
    "n = 4\n",
    "scaler = StandardScaler()\n",
    "pca = decomposition.PCA(n_components=n)\n",
    "logistic_Reg = LogisticRegression(C=0.2682695795279725, max_iter=1000, penalty='l1',\n",
    "                   solver='liblinear')\n",
    "\n",
    "\n",
    "pipe = Pipeline(steps=[('scaler', scaler), ('pca', pca), ('logistic_Reg', logistic_Reg)])\n",
    "pipe.fit(new_train_x, train_y)\n",
    "pipe.score(new_test_x, test_y)"
   ]
  },
  {
   "cell_type": "markdown",
   "id": "6cd7e58b-4643-4de5-8c10-d554adef40ae",
   "metadata": {},
   "source": [
    "### Trying with features squared"
   ]
  },
  {
   "cell_type": "code",
   "execution_count": 41,
   "id": "a2b3d80f-bfc4-41a0-a989-d878242c5961",
   "metadata": {},
   "outputs": [],
   "source": [
    "columns = new_train_x.columns\n",
    "squared_x = new_train_x.apply(np.square)\n",
    "squared_x = squared_x.rename(columns={\"Convocatoria\": \"C2\", \"Anho\": \"A2\", \"Primer.Par\": \"P2\", \"Num.Intento\":\"I2\"})\n",
    "squared_x = pd.concat([new_train_x,squared_x],axis=1)\n",
    "#print(squared_x)\n",
    "columns = new_test_x.columns\n",
    "squared_test_x = new_test_x.apply(np.square)\n",
    "squared_test_x = squared_test_x.rename(columns={\"Convocatoria\": \"C2\", \"Anho\": \"A2\", \"Primer.Par\": \"P2\", \"Num.Intento\":\"I2\"})\n",
    "squared_test_x = pd.concat([new_test_x,squared_test_x],axis=1)\n",
    "#print(squared_test_x)"
   ]
  },
  {
   "cell_type": "code",
   "execution_count": 42,
   "id": "eb0d00c0-a313-4ba7-9422-08639e13e985",
   "metadata": {},
   "outputs": [
    {
     "name": "stdout",
     "output_type": "stream",
     "text": [
      "logistic_Reg__C: 10000.0\n",
      "logistic_Reg__penalty: l2\n",
      "logistic_Reg__solver: newton-cg\n",
      "pca__n_components: 7\n",
      "scaler: StandardScaler()\n",
      "best score: 0.7732582676424535\n",
      "LogisticRegression(C=10000.0, max_iter=1000, solver='newton-cg')\n"
     ]
    }
   ],
   "source": [
    "hyperparam_search(squared_x, train_y)"
   ]
  },
  {
   "cell_type": "code",
   "execution_count": 44,
   "id": "efa05a45-0c12-47da-bb09-a7bd5b2f0976",
   "metadata": {},
   "outputs": [
    {
     "data": {
      "text/plain": [
       "0.7678756476683938"
      ]
     },
     "execution_count": 44,
     "metadata": {},
     "output_type": "execute_result"
    }
   ],
   "source": [
    "n = 7\n",
    "scaler = MinMaxScaler()\n",
    "pca = decomposition.PCA(n_components=n)\n",
    "logistic_Reg = linear_model.LogisticRegression(C=0.12648552168552957, solver='liblinear', penalty = 'l2')\n",
    "\n",
    "\n",
    "pipe = Pipeline(steps=[('scaler', scaler), ('pca', pca), ('logistic_Reg', logistic_Reg)])\n",
    "pipe.fit(squared_x, train_y)\n",
    "pipe.score(squared_test_x, test_y)"
   ]
  }
 ],
 "metadata": {
  "kernelspec": {
   "display_name": "Python 3 (ipykernel)",
   "language": "python",
   "name": "python3"
  },
  "language_info": {
   "codemirror_mode": {
    "name": "ipython",
    "version": 3
   },
   "file_extension": ".py",
   "mimetype": "text/x-python",
   "name": "python",
   "nbconvert_exporter": "python",
   "pygments_lexer": "ipython3",
   "version": "3.10.8"
  }
 },
 "nbformat": 4,
 "nbformat_minor": 5
}
