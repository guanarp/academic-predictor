{
 "cells": [
  {
   "cell_type": "code",
   "execution_count": 1,
   "id": "664af2c1-fbbb-45eb-9a62-c41bf5fd8da8",
   "metadata": {},
   "outputs": [],
   "source": [
    "import os\n",
    "import pandas as pd\n",
    "import numpy as np\n",
    "import matplotlib.pyplot as plt\n",
    "from sklearn.model_selection import train_test_split\n",
    "from sklearn.linear_model import LogisticRegression, LogisticRegressionCV ,SGDClassifier\n",
    "from sklearn.model_selection import LearningCurveDisplay, ShuffleSplit\n",
    "import seaborn as sns\n",
    "import warnings\n",
    "from sklearn.metrics import confusion_matrix,ConfusionMatrixDisplay"
   ]
  },
  {
   "cell_type": "code",
   "execution_count": 2,
   "id": "c78ba951-6f10-44ad-9817-e9d35c4911f4",
   "metadata": {},
   "outputs": [
    {
     "name": "stdout",
     "output_type": "stream",
     "text": [
      "D:\\Guana\\Documents\\GitHub\\academic-predictor\n",
      "<class 'pandas.core.frame.DataFrame'>\n",
      "Int64Index: 97341 entries, 401 to 12388\n",
      "Data columns (total 14 columns):\n",
      " #   Column        Non-Null Count  Dtype  \n",
      "---  ------        --------------  -----  \n",
      " 0   ciclo         97341 non-null  int64  \n",
      " 1   Asignatura    97341 non-null  object \n",
      " 2   Cod.Car.Sec   97341 non-null  int64  \n",
      " 3   Convocatoria  97341 non-null  int64  \n",
      " 4   Anho          97341 non-null  int64  \n",
      " 5   Aprobado      97341 non-null  int64  \n",
      " 6   Anho.Firma    97341 non-null  int64  \n",
      " 7   Primer.Par    97341 non-null  int64  \n",
      " 8   Segundo.Par   97341 non-null  int64  \n",
      " 9   AOT           97341 non-null  int64  \n",
      " 10  Nota.Final    97341 non-null  object \n",
      " 11  id_anony      97341 non-null  object \n",
      " 12  Nota.Prom     97341 non-null  float64\n",
      " 13  Firma         97341 non-null  bool   \n",
      "dtypes: bool(1), float64(1), int64(9), object(3)\n",
      "memory usage: 10.5+ MB\n"
     ]
    }
   ],
   "source": [
    "print(os.getcwd())\n",
    "file_path = './datasets/datos_CB.csv'\n",
    "student_data = pd.read_csv(file_path,index_col=0)\n",
    "student_data.info()"
   ]
  },
  {
   "cell_type": "code",
   "execution_count": 3,
   "id": "5cc86b80-d492-4ed9-bbd7-b8a62ce69924",
   "metadata": {},
   "outputs": [
    {
     "data": {
      "text/html": [
       "<div>\n",
       "<style scoped>\n",
       "    .dataframe tbody tr th:only-of-type {\n",
       "        vertical-align: middle;\n",
       "    }\n",
       "\n",
       "    .dataframe tbody tr th {\n",
       "        vertical-align: top;\n",
       "    }\n",
       "\n",
       "    .dataframe thead th {\n",
       "        text-align: right;\n",
       "    }\n",
       "</style>\n",
       "<table border=\"1\" class=\"dataframe\">\n",
       "  <thead>\n",
       "    <tr style=\"text-align: right;\">\n",
       "      <th></th>\n",
       "      <th>ciclo</th>\n",
       "      <th>Asignatura</th>\n",
       "      <th>Cod.Car.Sec</th>\n",
       "      <th>Convocatoria</th>\n",
       "      <th>Anho</th>\n",
       "      <th>Aprobado</th>\n",
       "      <th>Anho.Firma</th>\n",
       "      <th>Primer.Par</th>\n",
       "      <th>Segundo.Par</th>\n",
       "      <th>AOT</th>\n",
       "      <th>Nota.Final</th>\n",
       "      <th>id_anony</th>\n",
       "      <th>Nota.Prom</th>\n",
       "      <th>Firma</th>\n",
       "    </tr>\n",
       "  </thead>\n",
       "  <tbody>\n",
       "    <tr>\n",
       "      <th>401</th>\n",
       "      <td>1</td>\n",
       "      <td>CALCULO 3</td>\n",
       "      <td>0</td>\n",
       "      <td>1</td>\n",
       "      <td>2012</td>\n",
       "      <td>0</td>\n",
       "      <td>0</td>\n",
       "      <td>0</td>\n",
       "      <td>0</td>\n",
       "      <td>0</td>\n",
       "      <td>[0]</td>\n",
       "      <td>es_253</td>\n",
       "      <td>0.0</td>\n",
       "      <td>False</td>\n",
       "    </tr>\n",
       "    <tr>\n",
       "      <th>402</th>\n",
       "      <td>1</td>\n",
       "      <td>FISICA 4</td>\n",
       "      <td>1</td>\n",
       "      <td>1</td>\n",
       "      <td>2012</td>\n",
       "      <td>0</td>\n",
       "      <td>2012</td>\n",
       "      <td>19</td>\n",
       "      <td>13</td>\n",
       "      <td>9</td>\n",
       "      <td>[0]</td>\n",
       "      <td>es_254</td>\n",
       "      <td>0.0</td>\n",
       "      <td>True</td>\n",
       "    </tr>\n",
       "    <tr>\n",
       "      <th>403</th>\n",
       "      <td>1</td>\n",
       "      <td>FISICA 4</td>\n",
       "      <td>0</td>\n",
       "      <td>1</td>\n",
       "      <td>2012</td>\n",
       "      <td>1</td>\n",
       "      <td>2012</td>\n",
       "      <td>17</td>\n",
       "      <td>24</td>\n",
       "      <td>10</td>\n",
       "      <td>[3]</td>\n",
       "      <td>es_255</td>\n",
       "      <td>3.0</td>\n",
       "      <td>True</td>\n",
       "    </tr>\n",
       "    <tr>\n",
       "      <th>404</th>\n",
       "      <td>1</td>\n",
       "      <td>FISICA 4</td>\n",
       "      <td>1</td>\n",
       "      <td>1</td>\n",
       "      <td>2012</td>\n",
       "      <td>0</td>\n",
       "      <td>0</td>\n",
       "      <td>0</td>\n",
       "      <td>0</td>\n",
       "      <td>0</td>\n",
       "      <td>[0]</td>\n",
       "      <td>es_256</td>\n",
       "      <td>0.0</td>\n",
       "      <td>False</td>\n",
       "    </tr>\n",
       "    <tr>\n",
       "      <th>405</th>\n",
       "      <td>1</td>\n",
       "      <td>FISICA 4</td>\n",
       "      <td>1</td>\n",
       "      <td>1</td>\n",
       "      <td>2012</td>\n",
       "      <td>0</td>\n",
       "      <td>0</td>\n",
       "      <td>16</td>\n",
       "      <td>12</td>\n",
       "      <td>8</td>\n",
       "      <td>[0]</td>\n",
       "      <td>es_257</td>\n",
       "      <td>0.0</td>\n",
       "      <td>False</td>\n",
       "    </tr>\n",
       "  </tbody>\n",
       "</table>\n",
       "</div>"
      ],
      "text/plain": [
       "     ciclo Asignatura  Cod.Car.Sec  Convocatoria  Anho  Aprobado  Anho.Firma  \\\n",
       "401      1  CALCULO 3            0             1  2012         0           0   \n",
       "402      1   FISICA 4            1             1  2012         0        2012   \n",
       "403      1   FISICA 4            0             1  2012         1        2012   \n",
       "404      1   FISICA 4            1             1  2012         0           0   \n",
       "405      1   FISICA 4            1             1  2012         0           0   \n",
       "\n",
       "     Primer.Par  Segundo.Par  AOT Nota.Final id_anony  Nota.Prom  Firma  \n",
       "401           0            0    0        [0]   es_253        0.0  False  \n",
       "402          19           13    9        [0]   es_254        0.0   True  \n",
       "403          17           24   10        [3]   es_255        3.0   True  \n",
       "404           0            0    0        [0]   es_256        0.0  False  \n",
       "405          16           12    8        [0]   es_257        0.0  False  "
      ]
     },
     "execution_count": 3,
     "metadata": {},
     "output_type": "execute_result"
    }
   ],
   "source": [
    "student_data.head()"
   ]
  },
  {
   "cell_type": "code",
   "execution_count": 53,
   "id": "d17ad28a-35fa-433c-b12e-d206540492f6",
   "metadata": {},
   "outputs": [
    {
     "data": {
      "text/plain": [
       "401       4\n",
       "402      23\n",
       "403      23\n",
       "404      23\n",
       "405      23\n",
       "         ..\n",
       "12384    41\n",
       "12385    41\n",
       "12386    41\n",
       "12387    41\n",
       "12388    41\n",
       "Name: Asig.Cod, Length: 97341, dtype: int8"
      ]
     },
     "execution_count": 53,
     "metadata": {},
     "output_type": "execute_result"
    }
   ],
   "source": [
    "student_data['Asig.Cod'] = pd.Categorical(student_data['Asignatura'])\n",
    "student_data['Asig.Cod'] = student_data['Asig.Cod'].cat.codes\n",
    "student_data['Asig.Cod']"
   ]
  },
  {
   "cell_type": "code",
   "execution_count": 4,
   "id": "6ae6b306-3684-4e0d-b4d0-2fd57453efaf",
   "metadata": {},
   "outputs": [],
   "source": [
    "def get_course(student_data,course):\n",
    "    condition = student_data[\"Asignatura\"] == course\n",
    "    course_data = student_data[condition]\n",
    "    course_data.drop([\"Nota.Prom\"],axis=1, inplace = True)\n",
    "    print(\"\\n\",len(course_data))\n",
    "    course_data.head()\n",
    "    return course_data"
   ]
  },
  {
   "cell_type": "code",
   "execution_count": 5,
   "id": "d439f505-2321-4db0-9343-70cd80f3928e",
   "metadata": {},
   "outputs": [
    {
     "name": "stdout",
     "output_type": "stream",
     "text": [
      "\n",
      " 4824\n"
     ]
    },
    {
     "name": "stderr",
     "output_type": "stream",
     "text": [
      "C:\\Users\\Guana\\AppData\\Local\\Temp\\ipykernel_24472\\1341986020.py:4: SettingWithCopyWarning: \n",
      "A value is trying to be set on a copy of a slice from a DataFrame\n",
      "\n",
      "See the caveats in the documentation: https://pandas.pydata.org/pandas-docs/stable/user_guide/indexing.html#returning-a-view-versus-a-copy\n",
      "  course_data.drop([\"Nota.Prom\"],axis=1, inplace = True)\n"
     ]
    },
    {
     "data": {
      "text/html": [
       "<div>\n",
       "<style scoped>\n",
       "    .dataframe tbody tr th:only-of-type {\n",
       "        vertical-align: middle;\n",
       "    }\n",
       "\n",
       "    .dataframe tbody tr th {\n",
       "        vertical-align: top;\n",
       "    }\n",
       "\n",
       "    .dataframe thead th {\n",
       "        text-align: right;\n",
       "    }\n",
       "</style>\n",
       "<table border=\"1\" class=\"dataframe\">\n",
       "  <thead>\n",
       "    <tr style=\"text-align: right;\">\n",
       "      <th></th>\n",
       "      <th>ciclo</th>\n",
       "      <th>Asignatura</th>\n",
       "      <th>Cod.Car.Sec</th>\n",
       "      <th>Convocatoria</th>\n",
       "      <th>Anho</th>\n",
       "      <th>Aprobado</th>\n",
       "      <th>Anho.Firma</th>\n",
       "      <th>Primer.Par</th>\n",
       "      <th>Segundo.Par</th>\n",
       "      <th>AOT</th>\n",
       "      <th>Nota.Final</th>\n",
       "      <th>id_anony</th>\n",
       "      <th>Firma</th>\n",
       "    </tr>\n",
       "  </thead>\n",
       "  <tbody>\n",
       "    <tr>\n",
       "      <th>1744</th>\n",
       "      <td>2</td>\n",
       "      <td>ESTATICA</td>\n",
       "      <td>4</td>\n",
       "      <td>1</td>\n",
       "      <td>2012</td>\n",
       "      <td>0</td>\n",
       "      <td>0</td>\n",
       "      <td>2</td>\n",
       "      <td>13</td>\n",
       "      <td>0</td>\n",
       "      <td>[0]</td>\n",
       "      <td>es_469</td>\n",
       "      <td>False</td>\n",
       "    </tr>\n",
       "    <tr>\n",
       "      <th>1745</th>\n",
       "      <td>2</td>\n",
       "      <td>ESTATICA</td>\n",
       "      <td>4</td>\n",
       "      <td>1</td>\n",
       "      <td>2012</td>\n",
       "      <td>0</td>\n",
       "      <td>0</td>\n",
       "      <td>6</td>\n",
       "      <td>11</td>\n",
       "      <td>0</td>\n",
       "      <td>[0]</td>\n",
       "      <td>es_470</td>\n",
       "      <td>False</td>\n",
       "    </tr>\n",
       "    <tr>\n",
       "      <th>1746</th>\n",
       "      <td>2</td>\n",
       "      <td>ESTATICA</td>\n",
       "      <td>3</td>\n",
       "      <td>1</td>\n",
       "      <td>2012</td>\n",
       "      <td>1</td>\n",
       "      <td>2012</td>\n",
       "      <td>12</td>\n",
       "      <td>24</td>\n",
       "      <td>0</td>\n",
       "      <td>[2]</td>\n",
       "      <td>es_175</td>\n",
       "      <td>True</td>\n",
       "    </tr>\n",
       "    <tr>\n",
       "      <th>1747</th>\n",
       "      <td>2</td>\n",
       "      <td>ESTATICA</td>\n",
       "      <td>3</td>\n",
       "      <td>1</td>\n",
       "      <td>2012</td>\n",
       "      <td>0</td>\n",
       "      <td>0</td>\n",
       "      <td>1</td>\n",
       "      <td>1</td>\n",
       "      <td>0</td>\n",
       "      <td>[0]</td>\n",
       "      <td>es_910</td>\n",
       "      <td>False</td>\n",
       "    </tr>\n",
       "    <tr>\n",
       "      <th>1748</th>\n",
       "      <td>2</td>\n",
       "      <td>ESTATICA</td>\n",
       "      <td>1</td>\n",
       "      <td>1</td>\n",
       "      <td>2012</td>\n",
       "      <td>0</td>\n",
       "      <td>0</td>\n",
       "      <td>0</td>\n",
       "      <td>0</td>\n",
       "      <td>0</td>\n",
       "      <td>[0]</td>\n",
       "      <td>es_1475</td>\n",
       "      <td>False</td>\n",
       "    </tr>\n",
       "  </tbody>\n",
       "</table>\n",
       "</div>"
      ],
      "text/plain": [
       "      ciclo Asignatura  Cod.Car.Sec  Convocatoria  Anho  Aprobado  Anho.Firma  \\\n",
       "1744      2   ESTATICA            4             1  2012         0           0   \n",
       "1745      2   ESTATICA            4             1  2012         0           0   \n",
       "1746      2   ESTATICA            3             1  2012         1        2012   \n",
       "1747      2   ESTATICA            3             1  2012         0           0   \n",
       "1748      2   ESTATICA            1             1  2012         0           0   \n",
       "\n",
       "      Primer.Par  Segundo.Par  AOT Nota.Final id_anony  Firma  \n",
       "1744           2           13    0        [0]   es_469  False  \n",
       "1745           6           11    0        [0]   es_470  False  \n",
       "1746          12           24    0        [2]   es_175   True  \n",
       "1747           1            1    0        [0]   es_910  False  \n",
       "1748           0            0    0        [0]  es_1475  False  "
      ]
     },
     "execution_count": 5,
     "metadata": {},
     "output_type": "execute_result"
    }
   ],
   "source": [
    "course_data = get_course(student_data,'ESTATICA')\n",
    "course_data.head()"
   ]
  },
  {
   "cell_type": "markdown",
   "id": "86cc1e40-2adc-4961-bd64-edb6c495a349",
   "metadata": {},
   "source": [
    "# Making a new column with number of attemps"
   ]
  },
  {
   "cell_type": "code",
   "execution_count": 6,
   "id": "7e9195a4-4d2c-42ef-bf73-eaeca1484453",
   "metadata": {},
   "outputs": [],
   "source": [
    "def count_attemps(course_data):\n",
    "    course_data = course_data.sort_values(by=['id_anony','Anho'])\n",
    "    last_id = course_data['id_anony'].iloc[0]\n",
    "    counter = 0\n",
    "    for index,row in course_data.iterrows():\n",
    "        #print(index)\n",
    "        if row['id_anony'] == last_id:\n",
    "            counter += 1 \n",
    "            course_data.loc[index,['Num.Intento']] = counter\n",
    "        else:\n",
    "            last_id = row['id_anony']\n",
    "            course_data.loc[index,['Num.Intento']] = 1\n",
    "            counter = 1\n",
    "    return course_data"
   ]
  },
  {
   "cell_type": "code",
   "execution_count": 7,
   "id": "a5bd09d7-388e-4bc7-8d85-d060938bbe40",
   "metadata": {},
   "outputs": [],
   "source": [
    "course_data = count_attemps(course_data)"
   ]
  },
  {
   "cell_type": "markdown",
   "id": "5b75ae2d-4ec9-4f87-8061-094819ba2f2b",
   "metadata": {},
   "source": [
    "# Heat map to check corr"
   ]
  },
  {
   "cell_type": "code",
   "execution_count": 58,
   "id": "3b5121f1-d859-4569-a498-c2d0fa22e0de",
   "metadata": {},
   "outputs": [
    {
     "data": {
      "image/png": "[encoded data removed]",
      "text/plain": [
       "<Figure size 640x480 with 2 Axes>"
      ]
     },
     "metadata": {},
     "output_type": "display_data"
    }
   ],
   "source": [
    "sns.heatmap(course_data[['ciclo','Cod.Car.Sec','Convocatoria','Anho','Anho.Firma','Firma','Num.Intento','Primer.Par','Aprobado']].corr(), cmap='Blues', annot=True)\n",
    "plt.show()"
   ]
  },
  {
   "cell_type": "markdown",
   "id": "1b7cfda0-ad85-4da6-afa8-3864b8c9035b",
   "metadata": {},
   "source": [
    "# Adding previous course data"
   ]
  },
  {
   "cell_type": "code",
   "execution_count": 9,
   "id": "9e13ca5b-5be3-4718-8f7d-37cadc7b8d69",
   "metadata": {},
   "outputs": [],
   "source": [
    "def get_previous_course(previous_course):\n",
    "    #slicing\n",
    "    formated_title = str.title(previous_course.lower().replace(' ', '_'))\n",
    "    condition = student_data[\"Asignatura\"] == previous_course\n",
    "    previous_course_data = student_data[condition]\n",
    "    previous_course_data = count_attemps(previous_course_data)\n",
    "    previous_course_data = previous_course_data.rename(columns={'Num.Intento':f'Num.Intento.{formated_title}', 'Nota.Prom' : f'Nota.Prom.{formated_title}'})\n",
    "    previous_course_data = previous_course_data[[\"id_anony\", f'Nota.Prom.{formated_title}', f'Num.Intento.{formated_title}']]\n",
    "    \n",
    "    #grouping by id\n",
    "    attemps = previous_course_data[['id_anony',f'Num.Intento.{formated_title}']].groupby(['id_anony']).max()\n",
    "    avg_grade = previous_course_data[['id_anony',f'Nota.Prom.{formated_title}']].groupby(['id_anony']).mean()\n",
    "    result = pd.concat([avg_grade,attemps],axis=1)\n",
    "    #result\n",
    "    \n",
    "    return result"
   ]
  },
  {
   "cell_type": "code",
   "execution_count": 10,
   "id": "0df2db4a-bb68-47a3-a122-4e668caaf48b",
   "metadata": {},
   "outputs": [],
   "source": [
    "def merge_previous_course(course_data,result):\n",
    "    result = pd.merge(course_data, result, on = 'id_anony', how = 'left')\n",
    "    #for col in result.columns:\n",
    "    #    print(col,np.unique(result[col]))\n",
    "    return result\n"
   ]
  },
  {
   "cell_type": "code",
   "execution_count": 11,
   "id": "0910e3eb-b662-40ae-807b-92c333728d63",
   "metadata": {},
   "outputs": [],
   "source": [
    "def getNans(result):\n",
    "    course = result.columns[-1][12:] #get the previous course name\n",
    "    print(\"Mean grade with NaN:\",np.mean(result.iloc[:,-2]),\"Mean attemps with NaN:\",np.mean(result.iloc[:,-1]))\n",
    "    result[f'Nota.Prom.{course}'] = result[f'Nota.Prom.{course}'].fillna(result['Primer.Par']/24*5) #averagin from first midterm\n",
    "    result[f'Num.Intento.{course}'] = result[f'Num.Intento.{course}'].fillna(np.mean(result[f'Num.Intento.{course}']))\n",
    "    print('Mean grade interpolated',np.mean(result[f'Nota.Prom.{course}']),'Mean attemps interpolated',np.mean(result[f'Num.Intento.{course}']))\n"
   ]
  },
  {
   "cell_type": "code",
   "execution_count": 12,
   "id": "2b292a0e-81e5-403a-a016-34d9c6bad3de",
   "metadata": {},
   "outputs": [],
   "source": [
    "def add_course(course_data,previous_course):\n",
    "    previous_course_data = get_previous_course(previous_course)\n",
    "    result = merge_previous_course(course_data,previous_course_data)\n",
    "    getNans(result)\n",
    "    original = result.copy()\n",
    "    y = result['Aprobado']\n",
    "    result.drop(['ciclo','Asignatura','Aprobado','Segundo.Par','AOT','Anho.Firma','Nota.Final','id_anony'],axis=1,inplace = True)\n",
    "    return result,y,original"
   ]
  },
  {
   "cell_type": "code",
   "execution_count": 13,
   "id": "5e47a256-883b-453f-96b3-e803411f7dcb",
   "metadata": {},
   "outputs": [
    {
     "name": "stdout",
     "output_type": "stream",
     "text": [
      "Mean grade with NaN: 1.9052710303304832 Mean attemps with NaN: 1.7153388822829965\n",
      "Mean grade interpolated 1.8735312360156886 Mean attemps interpolated 1.7153388822829965\n"
     ]
    }
   ],
   "source": [
    "result,y,original = add_course(course_data,'ALGEBRA LINEAL 2')"
   ]
  },
  {
   "cell_type": "code",
   "execution_count": 14,
   "id": "14a95311-7d0d-46a4-9868-fc0ef17ec95e",
   "metadata": {},
   "outputs": [
    {
     "data": {
      "text/html": [
       "<div>\n",
       "<style scoped>\n",
       "    .dataframe tbody tr th:only-of-type {\n",
       "        vertical-align: middle;\n",
       "    }\n",
       "\n",
       "    .dataframe tbody tr th {\n",
       "        vertical-align: top;\n",
       "    }\n",
       "\n",
       "    .dataframe thead th {\n",
       "        text-align: right;\n",
       "    }\n",
       "</style>\n",
       "<table border=\"1\" class=\"dataframe\">\n",
       "  <thead>\n",
       "    <tr style=\"text-align: right;\">\n",
       "      <th></th>\n",
       "      <th>Cod.Car.Sec</th>\n",
       "      <th>Convocatoria</th>\n",
       "      <th>Anho</th>\n",
       "      <th>Primer.Par</th>\n",
       "      <th>Firma</th>\n",
       "      <th>Num.Intento</th>\n",
       "      <th>Nota.Prom.Algebra_Lineal_2</th>\n",
       "      <th>Num.Intento.Algebra_Lineal_2</th>\n",
       "    </tr>\n",
       "  </thead>\n",
       "  <tbody>\n",
       "    <tr>\n",
       "      <th>0</th>\n",
       "      <td>5</td>\n",
       "      <td>1</td>\n",
       "      <td>2012</td>\n",
       "      <td>6</td>\n",
       "      <td>False</td>\n",
       "      <td>1.0</td>\n",
       "      <td>1.250000</td>\n",
       "      <td>1.715339</td>\n",
       "    </tr>\n",
       "    <tr>\n",
       "      <th>1</th>\n",
       "      <td>5</td>\n",
       "      <td>1</td>\n",
       "      <td>2013</td>\n",
       "      <td>6</td>\n",
       "      <td>True</td>\n",
       "      <td>1.0</td>\n",
       "      <td>1.250000</td>\n",
       "      <td>1.715339</td>\n",
       "    </tr>\n",
       "    <tr>\n",
       "      <th>2</th>\n",
       "      <td>5</td>\n",
       "      <td>1</td>\n",
       "      <td>2012</td>\n",
       "      <td>15</td>\n",
       "      <td>True</td>\n",
       "      <td>1.0</td>\n",
       "      <td>3.125000</td>\n",
       "      <td>1.715339</td>\n",
       "    </tr>\n",
       "    <tr>\n",
       "      <th>3</th>\n",
       "      <td>1</td>\n",
       "      <td>1</td>\n",
       "      <td>2012</td>\n",
       "      <td>10</td>\n",
       "      <td>True</td>\n",
       "      <td>1.0</td>\n",
       "      <td>2.083333</td>\n",
       "      <td>1.715339</td>\n",
       "    </tr>\n",
       "    <tr>\n",
       "      <th>4</th>\n",
       "      <td>1</td>\n",
       "      <td>1</td>\n",
       "      <td>2013</td>\n",
       "      <td>8</td>\n",
       "      <td>True</td>\n",
       "      <td>3.0</td>\n",
       "      <td>1.666667</td>\n",
       "      <td>1.715339</td>\n",
       "    </tr>\n",
       "    <tr>\n",
       "      <th>...</th>\n",
       "      <td>...</td>\n",
       "      <td>...</td>\n",
       "      <td>...</td>\n",
       "      <td>...</td>\n",
       "      <td>...</td>\n",
       "      <td>...</td>\n",
       "      <td>...</td>\n",
       "      <td>...</td>\n",
       "    </tr>\n",
       "    <tr>\n",
       "      <th>4819</th>\n",
       "      <td>3</td>\n",
       "      <td>1</td>\n",
       "      <td>2012</td>\n",
       "      <td>16</td>\n",
       "      <td>True</td>\n",
       "      <td>1.0</td>\n",
       "      <td>3.333333</td>\n",
       "      <td>1.715339</td>\n",
       "    </tr>\n",
       "    <tr>\n",
       "      <th>4820</th>\n",
       "      <td>3</td>\n",
       "      <td>1</td>\n",
       "      <td>2013</td>\n",
       "      <td>0</td>\n",
       "      <td>False</td>\n",
       "      <td>1.0</td>\n",
       "      <td>0.000000</td>\n",
       "      <td>1.715339</td>\n",
       "    </tr>\n",
       "    <tr>\n",
       "      <th>4821</th>\n",
       "      <td>5</td>\n",
       "      <td>1</td>\n",
       "      <td>2012</td>\n",
       "      <td>3</td>\n",
       "      <td>False</td>\n",
       "      <td>1.0</td>\n",
       "      <td>0.666667</td>\n",
       "      <td>2.000000</td>\n",
       "    </tr>\n",
       "    <tr>\n",
       "      <th>4822</th>\n",
       "      <td>5</td>\n",
       "      <td>1</td>\n",
       "      <td>2013</td>\n",
       "      <td>9</td>\n",
       "      <td>True</td>\n",
       "      <td>2.0</td>\n",
       "      <td>0.666667</td>\n",
       "      <td>2.000000</td>\n",
       "    </tr>\n",
       "    <tr>\n",
       "      <th>4823</th>\n",
       "      <td>5</td>\n",
       "      <td>1</td>\n",
       "      <td>2014</td>\n",
       "      <td>10</td>\n",
       "      <td>False</td>\n",
       "      <td>1.0</td>\n",
       "      <td>0.000000</td>\n",
       "      <td>1.000000</td>\n",
       "    </tr>\n",
       "  </tbody>\n",
       "</table>\n",
       "<p>4824 rows × 8 columns</p>\n",
       "</div>"
      ],
      "text/plain": [
       "      Cod.Car.Sec  Convocatoria  Anho  Primer.Par  Firma  Num.Intento  \\\n",
       "0               5             1  2012           6  False          1.0   \n",
       "1               5             1  2013           6   True          1.0   \n",
       "2               5             1  2012          15   True          1.0   \n",
       "3               1             1  2012          10   True          1.0   \n",
       "4               1             1  2013           8   True          3.0   \n",
       "...           ...           ...   ...         ...    ...          ...   \n",
       "4819            3             1  2012          16   True          1.0   \n",
       "4820            3             1  2013           0  False          1.0   \n",
       "4821            5             1  2012           3  False          1.0   \n",
       "4822            5             1  2013           9   True          2.0   \n",
       "4823            5             1  2014          10  False          1.0   \n",
       "\n",
       "      Nota.Prom.Algebra_Lineal_2  Num.Intento.Algebra_Lineal_2  \n",
       "0                       1.250000                      1.715339  \n",
       "1                       1.250000                      1.715339  \n",
       "2                       3.125000                      1.715339  \n",
       "3                       2.083333                      1.715339  \n",
       "4                       1.666667                      1.715339  \n",
       "...                          ...                           ...  \n",
       "4819                    3.333333                      1.715339  \n",
       "4820                    0.000000                      1.715339  \n",
       "4821                    0.666667                      2.000000  \n",
       "4822                    0.666667                      2.000000  \n",
       "4823                    0.000000                      1.000000  \n",
       "\n",
       "[4824 rows x 8 columns]"
      ]
     },
     "execution_count": 14,
     "metadata": {},
     "output_type": "execute_result"
    }
   ],
   "source": [
    "result"
   ]
  },
  {
   "cell_type": "markdown",
   "id": "2de362ba-d9ac-49fc-8176-b0ffc1a72517",
   "metadata": {},
   "source": [
    "### Here, it could be useful to repeat this proccess (with a function) and add data for another course like Fisica 1"
   ]
  },
  {
   "cell_type": "code",
   "execution_count": 15,
   "id": "da54b2d3-d801-42a0-a394-7699e9b06ecf",
   "metadata": {},
   "outputs": [],
   "source": [
    "X_train, X_test, y_train, y_test = train_test_split(result, y, random_state=10)"
   ]
  },
  {
   "cell_type": "markdown",
   "id": "969d7d99-5d49-429a-a5a0-036ec73b55e0",
   "metadata": {},
   "source": [
    "# Pipeline and Gridsearch"
   ]
  },
  {
   "cell_type": "code",
   "execution_count": 16,
   "id": "bfe7865f-51d5-46e2-aa42-cbe90efd1081",
   "metadata": {},
   "outputs": [],
   "source": [
    "import numpy as np\n",
    "from sklearn import linear_model, decomposition, datasets\n",
    "from sklearn.pipeline import Pipeline\n",
    "from sklearn.model_selection import GridSearchCV\n",
    "from sklearn.preprocessing import StandardScaler, MinMaxScaler\n",
    "\n",
    "from sklearn.model_selection import learning_curve\n",
    "\n",
    "from tempfile import mkdtemp\n",
    "from shutil import rmtree"
   ]
  },
  {
   "cell_type": "code",
   "execution_count": 17,
   "id": "be5a3f04-1ba1-4676-b607-cfb48422ed10",
   "metadata": {},
   "outputs": [],
   "source": [
    "def hyperparam_search(x,y):\n",
    "    std_slc = StandardScaler()\n",
    "    pca = decomposition.PCA()\n",
    "    logistic_Reg = linear_model.LogisticRegression(solver='liblinear',max_iter=1000)\n",
    "    cachedir = mkdtemp()\n",
    "\n",
    "    pipe = Pipeline(steps = [('scaler', StandardScaler()), ('pca', pca), ('logistic_Reg', logistic_Reg)],memory=cachedir)\n",
    "    n_components = list(range(1,x.shape[1]+1,1))\n",
    "\n",
    "    C = np.logspace(-4, 4, 100)\n",
    "    #C = [0.001, 0.01, 0.1, 1, 10, 100]\n",
    "    penalty = ['l1', 'l2']\n",
    "\n",
    "    parameters = [\n",
    "        {'logistic_Reg__solver' : ['liblinear'],\n",
    "            'pca__n_components' : n_components,\n",
    "                          'scaler' : [StandardScaler(), MinMaxScaler()],\n",
    "                          'logistic_Reg__C' : C,\n",
    "                          'logistic_Reg__penalty' : penalty[0:2]},\n",
    "        {'logistic_Reg__solver' : ['newton-cg', 'lbfgs','newton-cholesky'],\n",
    "            'pca__n_components' : n_components,\n",
    "                          'scaler' : [StandardScaler(), MinMaxScaler()],\n",
    "                          'logistic_Reg__C' : C,\n",
    "                          'logistic_Reg__penalty' : penalty[1:]}\n",
    "                      ]\n",
    "\n",
    "\n",
    "    clf_GS = GridSearchCV(pipe, parameters, scoring = 'accuracy', n_jobs=-1)\n",
    "    clf_GS.fit(x, y)\n",
    "    \n",
    "    best_parameters = clf_GS.best_estimator_.get_params()\n",
    "    for param_name in sorted(parameters[0].keys()):\n",
    "        print(f\"{param_name}: {best_parameters[param_name]}\")\n",
    "    print(f\"best score: {clf_GS.best_score_}\")\n",
    "    print(clf_GS.best_estimator_.get_params()['logistic_Reg'])\n",
    "    \n",
    "    #print('Best scaler:',clf_GS.best_estimator_.get_params()['scaler'])\n",
    "    #print('Best Penalty:', clf_GS.best_estimator_.get_params()['logistic_Reg__penalty'])\n",
    "    #print('Best C:', clf_GS.best_estimator_.get_params()['logistic_Reg__C'])\n",
    "    #print('Best Number Of Components:', clf_GS.best_estimator_.get_params()['pca__n_components'])\n",
    "    #print(clf_GS.best_estimator_.get_params()['logistic_Reg'])"
   ]
  },
  {
   "cell_type": "markdown",
   "id": "623bf14a-3831-4a20-b5db-5b0630c25ec1",
   "metadata": {},
   "source": [
    "# Without tuning"
   ]
  },
  {
   "cell_type": "code",
   "execution_count": 39,
   "id": "da0d7031-6a8b-46bb-8b7d-cda0398f5a6f",
   "metadata": {},
   "outputs": [
    {
     "data": {
      "text/plain": [
       "0.8351824457593688"
      ]
     },
     "execution_count": 39,
     "metadata": {},
     "output_type": "execute_result"
    }
   ],
   "source": [
    "LR = linear_model.LogisticRegression(max_iter = 1000)\n",
    "LR.fit(X_train,y_train)\n",
    "LR.score(X_test,y_test)"
   ]
  },
  {
   "cell_type": "markdown",
   "id": "3c771296-27a4-40da-bfdf-bb46a953f6f2",
   "metadata": {},
   "source": [
    "# With tuning"
   ]
  },
  {
   "cell_type": "code",
   "execution_count": 19,
   "id": "89d0b239-c863-4f4d-aa44-2d6835c1fe18",
   "metadata": {},
   "outputs": [
    {
     "name": "stdout",
     "output_type": "stream",
     "text": [
      "Stored variables and their in-db values:\n",
      "logistic_Reg__C: 0.002364489412645407\n",
      "logistic_Reg__penalty: l2\n",
      "logistic_Reg__solver: liblinear\n",
      "pca__n_components: 2\n",
      "scaler: MinMaxScaler()\n",
      "best score: 0.8662295683271818\n",
      "LogisticRegression(C=0.002364489412645407, max_iter=1000, solver='liblinear')\n"
     ]
    }
   ],
   "source": [
    "%store\n",
    "with warnings.catch_warnings():\n",
    "    warnings.simplefilter('ignore')    \n",
    "hyperparam_search(X_train,y_train)"
   ]
  },
  {
   "cell_type": "markdown",
   "id": "1116f782-2b3c-4dc6-bb5a-659a7281cf81",
   "metadata": {},
   "source": [
    "# Old parameters attemp"
   ]
  },
  {
   "cell_type": "code",
   "execution_count": 20,
   "id": "c2750cd4-74d4-459b-acbd-44e7376f66c2",
   "metadata": {},
   "outputs": [
    {
     "data": {
      "text/plain": [
       "0.8756218905472637"
      ]
     },
     "execution_count": 20,
     "metadata": {},
     "output_type": "execute_result"
    }
   ],
   "source": [
    "n = 6\n",
    "scaler = MinMaxScaler()\n",
    "pca = decomposition.PCA(n_components=n)\n",
    "logistic_Reg = linear_model.LogisticRegression(C=0.12648552168552957, solver='liblinear', penalty = 'l2')\n",
    "\n",
    "\n",
    "pipe = Pipeline(steps=[('scaler', scaler), ('pca', pca), ('logistic_Reg', logistic_Reg)])\n",
    "pipe.fit(X_train, y_train)\n",
    "pipe.score(X_test, y_test)"
   ]
  },
  {
   "cell_type": "code",
   "execution_count": 21,
   "id": "2848d03b-d746-4497-80b4-1b72e1f8b97b",
   "metadata": {},
   "outputs": [
    {
     "data": {
      "text/plain": [
       "0.87893864013267"
      ]
     },
     "execution_count": 21,
     "metadata": {},
     "output_type": "execute_result"
    }
   ],
   "source": [
    "#without PCA\n",
    "scaler = StandardScaler()\n",
    "logistic_Reg = LogisticRegression(C=0.026560877829466867, max_iter=1000, solver='newton-cg')\n",
    "\n",
    "pipe = Pipeline(steps=[('scaler', scaler), ('logistic_Reg', logistic_Reg)])\n",
    "pipe.fit(X_train, y_train)\n",
    "pipe.score(X_test, y_test)"
   ]
  },
  {
   "cell_type": "markdown",
   "id": "d8111088-161a-4f77-bbad-cf29abfa4894",
   "metadata": {},
   "source": [
    "# Attemp 1"
   ]
  },
  {
   "cell_type": "code",
   "execution_count": 50,
   "id": "f8deefa2-79c1-4795-b85d-aba5cbbe970e",
   "metadata": {},
   "outputs": [
    {
     "data": {
      "text/plain": [
       "0.8325115055884287"
      ]
     },
     "execution_count": 50,
     "metadata": {},
     "output_type": "execute_result"
    }
   ],
   "source": [
    "n = 4\n",
    "scaler = MinMaxScaler()\n",
    "pca = decomposition.PCA(n_components=n)\n",
    "logistic_Reg = linear_model.LogisticRegression(C=0.002364489412645407, max_iter=1000, solver='liblinear')\n",
    "\n",
    "pipe = Pipeline(steps=[('scaler', scaler), ('pca', pca), ('logistic_Reg', logistic_Reg)])\n",
    "pipe.fit(X_train, y_train)\n",
    "pipe.score(X_test, y_test)"
   ]
  },
  {
   "cell_type": "markdown",
   "id": "7606422e-783d-4fc7-ab4f-13c9c5cefc9e",
   "metadata": {},
   "source": [
    "# Confusion matrix for both"
   ]
  },
  {
   "cell_type": "code",
   "execution_count": 23,
   "id": "1a90f144-b51a-4e90-8233-e9c26ea553bf",
   "metadata": {},
   "outputs": [
    {
     "data": {
      "image/png": "[encoded data removed]",
      "text/plain": [
       "<Figure size 640x480 with 2 Axes>"
      ]
     },
     "metadata": {},
     "output_type": "display_data"
    }
   ],
   "source": [
    "predictions = LR.predict(X_test)\n",
    "cm = confusion_matrix(y_test, predictions, labels=LR.classes_)\n",
    "disp = ConfusionMatrixDisplay(confusion_matrix=cm, display_labels=LR.classes_)\n",
    "disp.plot()\n",
    "plt.show()"
   ]
  },
  {
   "cell_type": "code",
   "execution_count": 24,
   "id": "6c963111-f627-47fe-844e-89a1019333f5",
   "metadata": {},
   "outputs": [
    {
     "data": {
      "image/png": "[encoded data removed]",
      "text/plain": [
       "<Figure size 640x480 with 2 Axes>"
      ]
     },
     "metadata": {},
     "output_type": "display_data"
    }
   ],
   "source": [
    "predictions = pipe.predict(X_test)\n",
    "cm = confusion_matrix(y_test, predictions, labels=LR.classes_)\n",
    "disp = ConfusionMatrixDisplay(confusion_matrix=cm, display_labels=LR.classes_)\n",
    "disp.plot()\n",
    "plt.show()"
   ]
  },
  {
   "cell_type": "markdown",
   "id": "4fcbd939-ea51-4a1b-839a-c48864f6beac",
   "metadata": {},
   "source": [
    "Maybe changing the threshold could be better"
   ]
  },
  {
   "cell_type": "markdown",
   "id": "bd061f32-87c0-4b09-bd4d-1c3d7b367c20",
   "metadata": {},
   "source": [
    "# Learning curve for no tuning and tuned "
   ]
  },
  {
   "cell_type": "code",
   "execution_count": 25,
   "id": "a9e29402-5743-4491-a235-10c2003bd41d",
   "metadata": {
    "tags": []
   },
   "outputs": [
    {
     "name": "stdout",
     "output_type": "stream",
     "text": [
      "Stored variables and their in-db values:\n"
     ]
    },
    {
     "data": {
      "image/png": "[encoded data removed]",
      "text/plain": [
       "<Figure size 640x480 with 1 Axes>"
      ]
     },
     "metadata": {},
     "output_type": "display_data"
    }
   ],
   "source": [
    "%store\n",
    "with warnings.catch_warnings():\n",
    "    warnings.simplefilter('ignore')   \n",
    "    train_sizes, train_scores, test_scores, fit_times, _ = learning_curve(LR, result, y, return_times=True, train_sizes=np.linspace(0.1, 1.0, 200))\n",
    "    plt.plot(train_sizes,np.mean(train_scores,axis=1))\n",
    "    plt.plot(train_sizes,np.mean(test_scores,axis=1))"
   ]
  },
  {
   "cell_type": "code",
   "execution_count": 26,
   "id": "420f21d9-4db7-4e22-89bc-f12094369c6c",
   "metadata": {
    "tags": []
   },
   "outputs": [
    {
     "name": "stdout",
     "output_type": "stream",
     "text": [
      "Stored variables and their in-db values:\n"
     ]
    },
    {
     "data": {
      "image/png": "[encoded data removed]",
      "text/plain": [
       "<Figure size 640x480 with 1 Axes>"
      ]
     },
     "metadata": {},
     "output_type": "display_data"
    }
   ],
   "source": [
    "%store\n",
    "with warnings.catch_warnings():\n",
    "    warnings.simplefilter('ignore') \n",
    "    train_sizes, train_scores, test_scores, fit_times, _ = learning_curve(logistic_Reg, result, y, return_times=True, train_sizes=np.linspace(0.1, 1.0, 200))\n",
    "    plt.plot(train_sizes,np.mean(train_scores,axis=1))\n",
    "    plt.plot(train_sizes,np.mean(test_scores,axis=1))"
   ]
  },
  {
   "cell_type": "markdown",
   "id": "22a0b329-1836-4f1b-a982-6f6487d4e232",
   "metadata": {},
   "source": [
    "parameters = [{'solver': ['newton-cg', 'lbfgs', 'liblinear', 'sag', 'saga']},\n",
    "              {'penalty':['none', 'elasticnet', 'l1', 'l2']},\n",
    "              {'C':[0.001, 0.01, 0.1, 1, 10, 100]}]\n"
   ]
  },
  {
   "cell_type": "markdown",
   "id": "40c2d8db-e726-4b99-a1ba-bf7de82c64aa",
   "metadata": {},
   "source": [
    "# Adding a third course"
   ]
  },
  {
   "cell_type": "code",
   "execution_count": 27,
   "id": "b6771264-07a7-4895-96ad-d3d7981b1eb4",
   "metadata": {},
   "outputs": [
    {
     "name": "stdout",
     "output_type": "stream",
     "text": [
      "Mean grade with NaN: 2.791847688610637 Mean attemps with NaN: 1.2760387023335231\n",
      "Mean grade interpolated 2.501021512806339 Mean attemps interpolated 1.2760387023335231\n"
     ]
    }
   ],
   "source": [
    "result,y,original = add_course(original,'FISICA 1')"
   ]
  },
  {
   "cell_type": "code",
   "execution_count": 28,
   "id": "9398af20-9e4a-45c2-a786-d773855761f6",
   "metadata": {},
   "outputs": [
    {
     "data": {
      "text/html": [
       "<div>\n",
       "<style scoped>\n",
       "    .dataframe tbody tr th:only-of-type {\n",
       "        vertical-align: middle;\n",
       "    }\n",
       "\n",
       "    .dataframe tbody tr th {\n",
       "        vertical-align: top;\n",
       "    }\n",
       "\n",
       "    .dataframe thead th {\n",
       "        text-align: right;\n",
       "    }\n",
       "</style>\n",
       "<table border=\"1\" class=\"dataframe\">\n",
       "  <thead>\n",
       "    <tr style=\"text-align: right;\">\n",
       "      <th></th>\n",
       "      <th>Cod.Car.Sec</th>\n",
       "      <th>Convocatoria</th>\n",
       "      <th>Anho</th>\n",
       "      <th>Primer.Par</th>\n",
       "      <th>Firma</th>\n",
       "      <th>Num.Intento</th>\n",
       "      <th>Nota.Prom.Algebra_Lineal_2</th>\n",
       "      <th>Num.Intento.Algebra_Lineal_2</th>\n",
       "      <th>Nota.Prom.Fisica_1</th>\n",
       "      <th>Num.Intento.Fisica_1</th>\n",
       "    </tr>\n",
       "  </thead>\n",
       "  <tbody>\n",
       "    <tr>\n",
       "      <th>0</th>\n",
       "      <td>5</td>\n",
       "      <td>1</td>\n",
       "      <td>2012</td>\n",
       "      <td>6</td>\n",
       "      <td>False</td>\n",
       "      <td>1.0</td>\n",
       "      <td>1.250000</td>\n",
       "      <td>1.715339</td>\n",
       "      <td>1.250000</td>\n",
       "      <td>1.276039</td>\n",
       "    </tr>\n",
       "    <tr>\n",
       "      <th>1</th>\n",
       "      <td>5</td>\n",
       "      <td>1</td>\n",
       "      <td>2013</td>\n",
       "      <td>6</td>\n",
       "      <td>True</td>\n",
       "      <td>1.0</td>\n",
       "      <td>1.250000</td>\n",
       "      <td>1.715339</td>\n",
       "      <td>1.250000</td>\n",
       "      <td>1.276039</td>\n",
       "    </tr>\n",
       "    <tr>\n",
       "      <th>2</th>\n",
       "      <td>5</td>\n",
       "      <td>1</td>\n",
       "      <td>2012</td>\n",
       "      <td>15</td>\n",
       "      <td>True</td>\n",
       "      <td>1.0</td>\n",
       "      <td>3.125000</td>\n",
       "      <td>1.715339</td>\n",
       "      <td>3.125000</td>\n",
       "      <td>1.276039</td>\n",
       "    </tr>\n",
       "    <tr>\n",
       "      <th>3</th>\n",
       "      <td>1</td>\n",
       "      <td>1</td>\n",
       "      <td>2012</td>\n",
       "      <td>10</td>\n",
       "      <td>True</td>\n",
       "      <td>1.0</td>\n",
       "      <td>2.083333</td>\n",
       "      <td>1.715339</td>\n",
       "      <td>2.083333</td>\n",
       "      <td>1.276039</td>\n",
       "    </tr>\n",
       "    <tr>\n",
       "      <th>4</th>\n",
       "      <td>1</td>\n",
       "      <td>1</td>\n",
       "      <td>2013</td>\n",
       "      <td>8</td>\n",
       "      <td>True</td>\n",
       "      <td>3.0</td>\n",
       "      <td>1.666667</td>\n",
       "      <td>1.715339</td>\n",
       "      <td>1.666667</td>\n",
       "      <td>1.276039</td>\n",
       "    </tr>\n",
       "    <tr>\n",
       "      <th>...</th>\n",
       "      <td>...</td>\n",
       "      <td>...</td>\n",
       "      <td>...</td>\n",
       "      <td>...</td>\n",
       "      <td>...</td>\n",
       "      <td>...</td>\n",
       "      <td>...</td>\n",
       "      <td>...</td>\n",
       "      <td>...</td>\n",
       "      <td>...</td>\n",
       "    </tr>\n",
       "    <tr>\n",
       "      <th>4819</th>\n",
       "      <td>3</td>\n",
       "      <td>1</td>\n",
       "      <td>2012</td>\n",
       "      <td>16</td>\n",
       "      <td>True</td>\n",
       "      <td>1.0</td>\n",
       "      <td>3.333333</td>\n",
       "      <td>1.715339</td>\n",
       "      <td>3.333333</td>\n",
       "      <td>1.276039</td>\n",
       "    </tr>\n",
       "    <tr>\n",
       "      <th>4820</th>\n",
       "      <td>3</td>\n",
       "      <td>1</td>\n",
       "      <td>2013</td>\n",
       "      <td>0</td>\n",
       "      <td>False</td>\n",
       "      <td>1.0</td>\n",
       "      <td>0.000000</td>\n",
       "      <td>1.715339</td>\n",
       "      <td>0.000000</td>\n",
       "      <td>1.276039</td>\n",
       "    </tr>\n",
       "    <tr>\n",
       "      <th>4821</th>\n",
       "      <td>5</td>\n",
       "      <td>1</td>\n",
       "      <td>2012</td>\n",
       "      <td>3</td>\n",
       "      <td>False</td>\n",
       "      <td>1.0</td>\n",
       "      <td>0.666667</td>\n",
       "      <td>2.000000</td>\n",
       "      <td>0.625000</td>\n",
       "      <td>1.276039</td>\n",
       "    </tr>\n",
       "    <tr>\n",
       "      <th>4822</th>\n",
       "      <td>5</td>\n",
       "      <td>1</td>\n",
       "      <td>2013</td>\n",
       "      <td>9</td>\n",
       "      <td>True</td>\n",
       "      <td>2.0</td>\n",
       "      <td>0.666667</td>\n",
       "      <td>2.000000</td>\n",
       "      <td>1.875000</td>\n",
       "      <td>1.276039</td>\n",
       "    </tr>\n",
       "    <tr>\n",
       "      <th>4823</th>\n",
       "      <td>5</td>\n",
       "      <td>1</td>\n",
       "      <td>2014</td>\n",
       "      <td>10</td>\n",
       "      <td>False</td>\n",
       "      <td>1.0</td>\n",
       "      <td>0.000000</td>\n",
       "      <td>1.000000</td>\n",
       "      <td>2.083333</td>\n",
       "      <td>1.276039</td>\n",
       "    </tr>\n",
       "  </tbody>\n",
       "</table>\n",
       "<p>4824 rows × 10 columns</p>\n",
       "</div>"
      ],
      "text/plain": [
       "      Cod.Car.Sec  Convocatoria  Anho  Primer.Par  Firma  Num.Intento  \\\n",
       "0               5             1  2012           6  False          1.0   \n",
       "1               5             1  2013           6   True          1.0   \n",
       "2               5             1  2012          15   True          1.0   \n",
       "3               1             1  2012          10   True          1.0   \n",
       "4               1             1  2013           8   True          3.0   \n",
       "...           ...           ...   ...         ...    ...          ...   \n",
       "4819            3             1  2012          16   True          1.0   \n",
       "4820            3             1  2013           0  False          1.0   \n",
       "4821            5             1  2012           3  False          1.0   \n",
       "4822            5             1  2013           9   True          2.0   \n",
       "4823            5             1  2014          10  False          1.0   \n",
       "\n",
       "      Nota.Prom.Algebra_Lineal_2  Num.Intento.Algebra_Lineal_2  \\\n",
       "0                       1.250000                      1.715339   \n",
       "1                       1.250000                      1.715339   \n",
       "2                       3.125000                      1.715339   \n",
       "3                       2.083333                      1.715339   \n",
       "4                       1.666667                      1.715339   \n",
       "...                          ...                           ...   \n",
       "4819                    3.333333                      1.715339   \n",
       "4820                    0.000000                      1.715339   \n",
       "4821                    0.666667                      2.000000   \n",
       "4822                    0.666667                      2.000000   \n",
       "4823                    0.000000                      1.000000   \n",
       "\n",
       "      Nota.Prom.Fisica_1  Num.Intento.Fisica_1  \n",
       "0               1.250000              1.276039  \n",
       "1               1.250000              1.276039  \n",
       "2               3.125000              1.276039  \n",
       "3               2.083333              1.276039  \n",
       "4               1.666667              1.276039  \n",
       "...                  ...                   ...  \n",
       "4819            3.333333              1.276039  \n",
       "4820            0.000000              1.276039  \n",
       "4821            0.625000              1.276039  \n",
       "4822            1.875000              1.276039  \n",
       "4823            2.083333              1.276039  \n",
       "\n",
       "[4824 rows x 10 columns]"
      ]
     },
     "execution_count": 28,
     "metadata": {},
     "output_type": "execute_result"
    }
   ],
   "source": [
    "result"
   ]
  },
  {
   "cell_type": "code",
   "execution_count": 29,
   "id": "efbbf2ba-6ca7-4315-a603-c46eaadf214f",
   "metadata": {},
   "outputs": [],
   "source": [
    "X_train, X_test, y_train, y_test = train_test_split(result, y, random_state=10)"
   ]
  },
  {
   "cell_type": "markdown",
   "id": "dc574f1d-2098-48fa-a158-97763929175b",
   "metadata": {},
   "source": [
    "%%script false"
   ]
  },
  {
   "cell_type": "code",
   "execution_count": 30,
   "id": "51459c0a-a704-4a60-8041-d8f7f69a7605",
   "metadata": {},
   "outputs": [
    {
     "data": {
      "text/plain": [
       "0.87893864013267"
      ]
     },
     "execution_count": 30,
     "metadata": {},
     "output_type": "execute_result"
    }
   ],
   "source": [
    "LR = linear_model.LogisticRegression(max_iter=1000)\n",
    "LR.fit(X_train,y_train)\n",
    "LR.score(X_test,y_test)"
   ]
  },
  {
   "cell_type": "code",
   "execution_count": 31,
   "id": "4380b159-db32-4f57-a49d-0aee4c99835b",
   "metadata": {},
   "outputs": [
    {
     "name": "stdout",
     "output_type": "stream",
     "text": [
      "logistic_Reg__C: 0.06734150657750829\n",
      "logistic_Reg__penalty: l1\n",
      "logistic_Reg__solver: liblinear\n",
      "pca__n_components: 10\n",
      "scaler: StandardScaler()\n",
      "best score: 0.8642920458800425\n",
      "LogisticRegression(C=0.06734150657750829, max_iter=1000, penalty='l1',\n",
      "                   solver='liblinear')\n"
     ]
    }
   ],
   "source": [
    "hyperparam_search(X_train,y_train)"
   ]
  },
  {
   "cell_type": "code",
   "execution_count": 32,
   "id": "b60eb547-753e-4b4d-b832-a523f4376fd5",
   "metadata": {},
   "outputs": [
    {
     "data": {
      "text/plain": [
       "0.87893864013267"
      ]
     },
     "execution_count": 32,
     "metadata": {},
     "output_type": "execute_result"
    }
   ],
   "source": [
    "n = 7\n",
    "scaler = MinMaxScaler()\n",
    "pca = decomposition.PCA(n_components=n)\n",
    "logistic_Reg = linear_model.LogisticRegression(C=4.862601580065354, max_iter=1000, penalty='l1',\n",
    "                   solver='liblinear')\n",
    "\n",
    "pipe = Pipeline(steps=[('scaler', scaler), ('pca', pca), ('logistic_Reg', logistic_Reg)])\n",
    "pipe.fit(X_train, y_train)\n",
    "pipe.score(X_test, y_test)"
   ]
  },
  {
   "cell_type": "markdown",
   "id": "a10d2b8e-14cb-481d-9c5c-cb6c09be586e",
   "metadata": {},
   "source": [
    "# Comparing with a general dataset (without splitting into courses)"
   ]
  },
  {
   "cell_type": "code",
   "execution_count": 33,
   "id": "fde4dff9-f0c4-4d8e-8b7b-11628cad2cda",
   "metadata": {
    "tags": []
   },
   "outputs": [],
   "source": [
    "student_data\n",
    "y = student_data['Aprobado']\n",
    "x = student_data.drop(['Asignatura','Segundo.Par','AOT','Nota.Final','id_anony','Nota.Prom','Aprobado'],axis=1)"
   ]
  },
  {
   "cell_type": "code",
   "execution_count": 34,
   "id": "acd240f3-6024-42f2-beb2-1bed3ed9bce9",
   "metadata": {},
   "outputs": [],
   "source": [
    "X_train, X_test, y_train, y_test = train_test_split(x, y, random_state=10)"
   ]
  },
  {
   "cell_type": "code",
   "execution_count": 35,
   "id": "9f95e73d-b184-4745-93e5-0b504577530c",
   "metadata": {},
   "outputs": [
    {
     "name": "stdout",
     "output_type": "stream",
     "text": [
      "logistic_Reg__C: 4750.810162102803\n",
      "logistic_Reg__penalty: l1\n",
      "logistic_Reg__solver: liblinear\n",
      "pca__n_components: 7\n",
      "scaler: MinMaxScaler()\n",
      "best score: 0.8472981302650503\n",
      "LogisticRegression(C=4750.810162102803, max_iter=1000, penalty='l1',\n",
      "                   solver='liblinear')\n"
     ]
    }
   ],
   "source": [
    "hyperparam_search(X_train,y_train)"
   ]
  },
  {
   "cell_type": "code",
   "execution_count": 36,
   "id": "01257a0a-7103-4349-88cf-5805b83892de",
   "metadata": {},
   "outputs": [
    {
     "name": "stderr",
     "output_type": "stream",
     "text": [
      "D:\\ProgramData\\Anaconda3\\envs\\IA2023\\lib\\site-packages\\sklearn\\linear_model\\_logistic.py:458: ConvergenceWarning: lbfgs failed to converge (status=1):\n",
      "STOP: TOTAL NO. of ITERATIONS REACHED LIMIT.\n",
      "\n",
      "Increase the number of iterations (max_iter) or scale the data as shown in:\n",
      "    https://scikit-learn.org/stable/modules/preprocessing.html\n",
      "Please also refer to the documentation for alternative solver options:\n",
      "    https://scikit-learn.org/stable/modules/linear_model.html#logistic-regression\n",
      "  n_iter_i = _check_optimize_result(\n"
     ]
    },
    {
     "data": {
      "text/plain": [
       "0.8351824457593688"
      ]
     },
     "execution_count": 36,
     "metadata": {},
     "output_type": "execute_result"
    }
   ],
   "source": [
    "LR = linear_model.LogisticRegression()\n",
    "LR.fit(X_train,y_train)\n",
    "LR.score(X_test,y_test)"
   ]
  },
  {
   "cell_type": "code",
   "execution_count": 37,
   "id": "fe70bae7-b1ce-45ff-aacb-fa4a28292783",
   "metadata": {},
   "outputs": [
    {
     "data": {
      "text/plain": [
       "0.8347715318869166"
      ]
     },
     "execution_count": 37,
     "metadata": {},
     "output_type": "execute_result"
    }
   ],
   "source": [
    "n = 4\n",
    "scaler = MinMaxScaler()\n",
    "pca = decomposition.PCA(n_components=n)\n",
    "logistic_Reg = linear_model.LogisticRegression(C=0.20565123083486536, max_iter=1000, penalty='l1',\n",
    "                   solver='liblinear')\n",
    "\n",
    "pipe = Pipeline(steps=[('scaler', scaler), ('pca', pca), ('logistic_Reg', logistic_Reg)])\n",
    "pipe.fit(X_train, y_train)\n",
    "pipe.score(X_test, y_test)"
   ]
  }
 ],
 "metadata": {
  "kernelspec": {
   "display_name": "Python 3 (ipykernel)",
   "language": "python",
   "name": "python3"
  },
  "language_info": {
   "codemirror_mode": {
    "name": "ipython",
    "version": 3
   },
   "file_extension": ".py",
   "mimetype": "text/x-python",
   "name": "python",
   "nbconvert_exporter": "python",
   "pygments_lexer": "ipython3",
   "version": "3.10.9"
  }
 },
 "nbformat": 4,
 "nbformat_minor": 5
}
